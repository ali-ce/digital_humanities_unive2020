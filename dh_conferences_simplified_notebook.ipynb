{
 "cells": [
  {
   "cell_type": "markdown",
   "metadata": {},
   "source": [
    "# A (data inspired) history of Digital Humanities Conferences\n",
    "\n",
    "*This notebook by [Alice Corona](https://alice-corona.eu/) serves as the data diary in preperation for a class assignment for the 2020 course Introduction to Digital and Public Humanities of the [MA in Digital and Public Humanities at Ca'Foscari Univerity](https://www.unive.it/pag/38917/). The course is held by [Prof. Dall'Aglio](https://www.unive.it/data/persone/20962884) and [Prof. Fischer](https://www.unive.it/data/persone/21292086).*\n",
    "\n",
    "\n",
    "## What is Digital Humanities? \n",
    "This question could be answered in a top-down manner, by providing a series of definitions and their evolution thorough time. Another approach to gain insight into this question looking at the issue from a **bottom-up perspective, by focusing on the practice: who are the people, what projects are being carried out and what topics are being researched, in the scholarly communities that self-identifies as affering to the digital humanities?**\n",
    "\n",
    "One way - not the only way, of course - to begin addressing the issue is to look at Digital Humanities conferences. They won't provide information on all the ways in which the DH community operates, and in such they will only provide partial and biased insights. It is however one of the facets through which it is possible to explore the topic\n",
    "\n",
    "## Main References\n",
    "- Weingart, S.B., Eichmann-Kalwara, N., Lincoln, M., et al. \"DH Conferences Data Extract\" in The Index of Digital Humanities Conferences. Carnegie Mellon University, 2020. Data last updated 2020-10-04. [Accessible here](https://dh-abstracts.library.cmu.edu) (**Data source**)\n",
    "\n",
    "- EICHMANN-KALWARA, NICKOAL, JEANA JORGENSEN, and SCOTT B. WEINGART. \"Representation at Digital Humanities Conferences (2000–2015).\" In Bodies of Information: Intersectional Feminism and the Digital Humanities, edited by Losh Elizabeth and Wernimont Jacqueline, 72-92. Minneapolis; London: University of Minnesota Press, 2018. Accessed October 4, 2020.\n",
    "- Scott Weingart’s blog posts on [DH conferences 2013 - 2017](http://scottbot.net/tag/dhconf/)\n",
    "- Frank Fischer’s blog posts on DH conferences [tools](https://weltliteratur.net/tools-mentioned-in-dh2020-abstracts/) and [impact](https://weltliteratur.net/measuring-impact-dh-conference-proceedings/)"
   ]
  },
  {
   "cell_type": "markdown",
   "metadata": {
    "toc": true
   },
   "source": [
    "<h1>Table of Contents<span class=\"tocSkip\"></span></h1>\n",
    "<div class=\"toc\"><ul class=\"toc-item\"><li><span><a href=\"#A-(data-inspired)-history-of-Digital-Humanities-Conferences\" data-toc-modified-id=\"A-(data-inspired)-history-of-Digital-Humanities-Conferences-1\">A (data inspired) history of Digital Humanities Conferences</a></span><ul class=\"toc-item\"><li><span><a href=\"#What-is-Digital-Humanities?\" data-toc-modified-id=\"What-is-Digital-Humanities?-1.1\">What is Digital Humanities?</a></span></li><li><span><a href=\"#Main-References\" data-toc-modified-id=\"Main-References-1.2\">Main References</a></span></li></ul></li><li><span><a href=\"#1.-All-conferences-monitored\" data-toc-modified-id=\"1.-All-conferences-monitored-2\">1. All conferences monitored</a></span><ul class=\"toc-item\"><li><span><a href=\"#1a.-General-stats\" data-toc-modified-id=\"1a.-General-stats-2.1\">1a. General stats</a></span></li><li><span><a href=\"#1b.-Time-stats\" data-toc-modified-id=\"1b.-Time-stats-2.2\">1b. Time stats</a></span><ul class=\"toc-item\"><li><span><a href=\"#I.-Conferences-monitored-per-year\" data-toc-modified-id=\"I.-Conferences-monitored-per-year-2.2.1\">I. Conferences monitored per year</a></span></li></ul></li><li><span><a href=\"#1c.-Geo-stats\" data-toc-modified-id=\"1c.-Geo-stats-2.3\">1c. Geo stats</a></span><ul class=\"toc-item\"><li><span><a href=\"#I.-Top-10-cities-hosting-a-conference\" data-toc-modified-id=\"I.-Top-10-cities-hosting-a-conference-2.3.1\">I. Top 10 cities hosting a conference</a></span></li><li><span><a href=\"#II.-Top-10-countries-hosting-a-conference\" data-toc-modified-id=\"II.-Top-10-countries-hosting-a-conference-2.3.2\">II. Top 10 countries hosting a conference</a></span></li></ul></li><li><span><a href=\"#1d.-ADHO-focus\" data-toc-modified-id=\"1d.-ADHO-focus-2.4\">1d. ADHO focus</a></span><ul class=\"toc-item\"><li><span><a href=\"#I.-ADHO-Conference-list\" data-toc-modified-id=\"I.-ADHO-Conference-list-2.4.1\">I. ADHO Conference list</a></span></li></ul></li></ul></li><li><span><a href=\"#2.-ADHO-Works\" data-toc-modified-id=\"2.-ADHO-Works-3\">2. ADHO Works</a></span><ul class=\"toc-item\"><li><span><a href=\"#2a.-Overall-stats\" data-toc-modified-id=\"2a.-Overall-stats-3.1\">2a. Overall stats</a></span><ul class=\"toc-item\"><li><span><a href=\"#I.-Top-10-keyword\" data-toc-modified-id=\"I.-Top-10-keyword-3.1.1\">I. Top 10 keyword</a></span></li><li><span><a href=\"#II.-Top-10-topics\" data-toc-modified-id=\"II.-Top-10-topics-3.1.2\">II. Top 10 topics</a></span></li></ul></li><li><span><a href=\"#2b.-Time-stats\" data-toc-modified-id=\"2b.-Time-stats-3.2\">2b. Time stats</a></span><ul class=\"toc-item\"><li><span><a href=\"#I.-Top-10-topics-through-time\" data-toc-modified-id=\"I.-Top-10-topics-through-time-3.2.1\">I. Top 10 topics through time</a></span></li><li><span><a href=\"#II.-Top-10-keywords-through-time\" data-toc-modified-id=\"II.-Top-10-keywords-through-time-3.2.2\">II. Top 10 keywords through time</a></span></li></ul></li></ul></li><li><span><a href=\"#3.-ADHO-authors-and-affiliations\" data-toc-modified-id=\"3.-ADHO-authors-and-affiliations-4\">3. ADHO authors and affiliations</a></span><ul class=\"toc-item\"><li><span><a href=\"#3a.-Overall-stats\" data-toc-modified-id=\"3a.-Overall-stats-4.1\">3a. Overall stats</a></span><ul class=\"toc-item\"><li><span><a href=\"#I.-Top-10-ADHO-authors\" data-toc-modified-id=\"I.-Top-10-ADHO-authors-4.1.1\">I. Top 10 ADHO authors</a></span></li><li><span><a href=\"#II.-Top-10-institutions-of-ADHO-authors\" data-toc-modified-id=\"II.-Top-10-institutions-of-ADHO-authors-4.1.2\">II. Top 10 institutions of ADHO authors</a></span></li><li><span><a href=\"#III.-Top-10-countries-of-ADHO-authors'-institutions\" data-toc-modified-id=\"III.-Top-10-countries-of-ADHO-authors'-institutions-4.1.3\">III. Top 10 countries of ADHO authors' institutions</a></span></li></ul></li><li><span><a href=\"#3b.-Time-stats\" data-toc-modified-id=\"3b.-Time-stats-4.2\">3b. Time stats</a></span><ul class=\"toc-item\"><li><span><a href=\"#I.-Top-10-countries-through-time\" data-toc-modified-id=\"I.-Top-10-countries-through-time-4.2.1\">I. Top 10 countries through time</a></span></li></ul></li></ul></li><li><span><a href=\"#4.-Tools-mentioned-in-ADHO-abstracts\" data-toc-modified-id=\"4.-Tools-mentioned-in-ADHO-abstracts-5\">4. Tools mentioned in ADHO abstracts</a></span><ul class=\"toc-item\"><li><ul class=\"toc-item\"><li><span><a href=\"#I.-Top-10-tools-2015---2019\" data-toc-modified-id=\"I.-Top-10-tools-2015---2019-5.0.1\">I. Top 10 tools 2015 - 2019</a></span></li></ul></li></ul></li><li><span><a href=\"#5.-Export-the-data-tables\" data-toc-modified-id=\"5.-Export-the-data-tables-6\">5. Export the data tables</a></span></li></ul></div>"
   ]
  },
  {
   "cell_type": "code",
   "execution_count": 2,
   "metadata": {},
   "outputs": [],
   "source": [
    "# import libraries and set options\n",
    "\n",
    "import pandas as pd\n",
    "import numpy as np\n",
    "\n",
    "pd.options.display.max_rows = 999\n",
    "pd.options.display.max_columns = 999\n",
    "pd.set_option('display.max_colwidth', 0)"
   ]
  },
  {
   "cell_type": "markdown",
   "metadata": {},
   "source": [
    "# 1. All conferences monitored"
   ]
  },
  {
   "cell_type": "code",
   "execution_count": 3,
   "metadata": {},
   "outputs": [],
   "source": [
    "# import original datasets\n",
    "conferences = pd.read_csv(\"data/conferences.csv\")\n",
    "series = pd.read_csv(\"data/conference_series.csv\")\n",
    "membership = pd.read_csv(\"data/conference_series_membership.csv\")\n",
    "hosting = pd.read_csv(\"data/conference_hosting_institution.csv\")\n",
    "organizer = pd.read_csv(\"data/conference_organizer.csv\")\n",
    "institutions = pd.read_csv(\"data/institutions.csv\")\n",
    "countries = pd.read_csv(\"data/countries.csv\")"
   ]
  },
  {
   "cell_type": "code",
   "execution_count": 4,
   "metadata": {},
   "outputs": [],
   "source": [
    "# make some summaries and aggregations\n",
    "hosting = hosting.merge(institutions, left_on='institution',\n",
    "                        right_on='id').drop(columns='id_y')\n",
    "hosting_count = hosting.pivot_table(index='name',\n",
    "                                    values='conference',\n",
    "                                    aggfunc=pd.Series.nunique)\n",
    "\n",
    "organizer = organizer.merge(institutions, left_on='organizer',\n",
    "                            right_on='id').drop(columns='id_y')\n",
    "organizer_count = organizer.pivot_table(index='name',\n",
    "                                        values='conference',\n",
    "                                        aggfunc=pd.Series.nunique)\n",
    "\n",
    "membership = membership.merge(series, left_on='series', right_on='id')\n",
    "membership = conferences.merge(membership,\n",
    "                               left_on='id',\n",
    "                               right_on='conference',\n",
    "                               how='outer')\n",
    "membership = membership.filter([\n",
    "    'series', 'title', 'abbreviation', 'year', 'start_date', 'label', 'city',\n",
    "    'country', 'conference'\n",
    "],\n",
    "                               axis=1)\n",
    "membership = membership.merge(\n",
    "    countries, left_on='country',\n",
    "    right_on='id').drop(columns=['country', 'id', 'tgn_id'])\n",
    "membership = membership.rename(columns={'pref_name': 'country'})\n",
    "\n",
    "conferences_membership = membership.groupby(\n",
    "    ['conference'])['abbreviation'].apply(' | '.join).reset_index()\n",
    "conferences_membership_full = membership.groupby(\n",
    "    ['conference'])['title'].apply(' | '.join).reset_index()\n",
    "conferences = conferences.merge(conferences_membership,\n",
    "                                left_on='id',\n",
    "                                right_on='conference',\n",
    "                                how='left')\n",
    "conferences = conferences.merge(conferences_membership_full,\n",
    "                                left_on='id',\n",
    "                                right_on='conference',\n",
    "                                how='left')\n",
    "conferences = conferences.merge(countries,\n",
    "                                left_on='country',\n",
    "                                right_on='id',\n",
    "                                how='left')\n",
    "conferences = conferences[[\n",
    "    'id_x', 'year', 'start_date', 'city', 'label', 'abbreviation', 'title',\n",
    "    'pref_name'\n",
    "]]\n",
    "conferences.columns = [\n",
    "    'id', 'year', 'start_date', 'city', 'label', 'series_abbreviation',\n",
    "    'series_title', 'country'\n",
    "]"
   ]
  },
  {
   "cell_type": "markdown",
   "metadata": {},
   "source": [
    "## 1a. General stats"
   ]
  },
  {
   "cell_type": "code",
   "execution_count": 5,
   "metadata": {},
   "outputs": [],
   "source": [
    "n_conferences = conferences['id'].nunique()\n",
    "n_series = series['abbreviation'].nunique()\n",
    "first_year = conferences['year'].min()\n",
    "last_year = conferences['year'].max()\n",
    "n_cities = conferences['city'].nunique()\n",
    "n_hosts = len(hosting_count)\n",
    "n_organizers = len(organizer_count)"
   ]
  },
  {
   "cell_type": "markdown",
   "metadata": {
    "variables": {
     "first_year": "1960",
     "last_year": "2021",
     "n_cities": "237",
     "n_conferences": "494",
     "n_hosts": "181",
     "n_organizers": "39",
     "n_series": "67"
    }
   },
   "source": [
    "The dataset contains in total:\n",
    "\n",
    "- **{{n_conferences}}** conferences, part of\n",
    "- **{{n_series}}** different series, held between\n",
    "- **{{first_year}} - {{last_year}}** in \n",
    "- **{{n_cities}}** different host cities, by\n",
    "- **{{n_hosts}}** different hosting institutions and\n",
    "- **{{n_organizers}}** different organizing institutions."
   ]
  },
  {
   "cell_type": "markdown",
   "metadata": {},
   "source": [
    "## 1b. Time stats"
   ]
  },
  {
   "cell_type": "code",
   "execution_count": 6,
   "metadata": {},
   "outputs": [],
   "source": [
    "# make some summaries and aggregations\n",
    "\n",
    "year_viz = membership.pivot_table(index='abbreviation',\n",
    "                                  columns='year',\n",
    "                                  aggfunc={'year': 'count'},\n",
    "                                  fill_value=0)\n",
    "year_viz['total'] = year_viz.sum(axis=1)\n",
    "col = year_viz.pop('total')\n",
    "year_viz.insert(0, col.name, col)\n",
    "year_viz = year_viz.sort_values('total', ascending=False)"
   ]
  },
  {
   "cell_type": "markdown",
   "metadata": {
    "variables": {
     "year_viz.head(10)": "<div>\n<style scoped>\n    .dataframe tbody tr th:only-of-type {\n        vertical-align: middle;\n    }\n\n    .dataframe tbody tr th {\n        vertical-align: top;\n    }\n\n    .dataframe thead tr th {\n        text-align: left;\n    }\n\n    .dataframe thead tr:last-of-type th {\n        text-align: right;\n    }\n</style>\n<table border=\"1\" class=\"dataframe\">\n  <thead>\n    <tr>\n      <th></th>\n      <th>total</th>\n      <th colspan=\"51\" halign=\"left\">year</th>\n    </tr>\n    <tr>\n      <th>year</th>\n      <th></th>\n      <th>1970</th>\n      <th>1972</th>\n      <th>1973</th>\n      <th>1974</th>\n      <th>1975</th>\n      <th>1976</th>\n      <th>1977</th>\n      <th>1978</th>\n      <th>1979</th>\n      <th>1980</th>\n      <th>1981</th>\n      <th>1982</th>\n      <th>1983</th>\n      <th>1984</th>\n      <th>1985</th>\n      <th>1986</th>\n      <th>1987</th>\n      <th>1988</th>\n      <th>1989</th>\n      <th>1990</th>\n      <th>1991</th>\n      <th>1992</th>\n      <th>1993</th>\n      <th>1994</th>\n      <th>1995</th>\n      <th>1996</th>\n      <th>1997</th>\n      <th>1998</th>\n      <th>1999</th>\n      <th>2000</th>\n      <th>2001</th>\n      <th>2002</th>\n      <th>2003</th>\n      <th>2004</th>\n      <th>2005</th>\n      <th>2006</th>\n      <th>2007</th>\n      <th>2008</th>\n      <th>2009</th>\n      <th>2010</th>\n      <th>2011</th>\n      <th>2012</th>\n      <th>2013</th>\n      <th>2014</th>\n      <th>2015</th>\n      <th>2016</th>\n      <th>2017</th>\n      <th>2018</th>\n      <th>2019</th>\n      <th>2020</th>\n      <th>2021</th>\n    </tr>\n    <tr>\n      <th>abbreviation</th>\n      <th></th>\n      <th></th>\n      <th></th>\n      <th></th>\n      <th></th>\n      <th></th>\n      <th></th>\n      <th></th>\n      <th></th>\n      <th></th>\n      <th></th>\n      <th></th>\n      <th></th>\n      <th></th>\n      <th></th>\n      <th></th>\n      <th></th>\n      <th></th>\n      <th></th>\n      <th></th>\n      <th></th>\n      <th></th>\n      <th></th>\n      <th></th>\n      <th></th>\n      <th></th>\n      <th></th>\n      <th></th>\n      <th></th>\n      <th></th>\n      <th></th>\n      <th></th>\n      <th></th>\n      <th></th>\n      <th></th>\n      <th></th>\n      <th></th>\n      <th></th>\n      <th></th>\n      <th></th>\n      <th></th>\n      <th></th>\n      <th></th>\n      <th></th>\n      <th></th>\n      <th></th>\n      <th></th>\n      <th></th>\n      <th></th>\n      <th></th>\n      <th></th>\n      <th></th>\n    </tr>\n  </thead>\n  <tbody>\n    <tr>\n      <th>ALLC/EADH</th>\n      <td>31</td>\n      <td>1</td>\n      <td>1</td>\n      <td>0</td>\n      <td>1</td>\n      <td>0</td>\n      <td>1</td>\n      <td>0</td>\n      <td>1</td>\n      <td>0</td>\n      <td>1</td>\n      <td>0</td>\n      <td>1</td>\n      <td>0</td>\n      <td>1</td>\n      <td>1</td>\n      <td>1</td>\n      <td>1</td>\n      <td>1</td>\n      <td>1</td>\n      <td>1</td>\n      <td>1</td>\n      <td>1</td>\n      <td>1</td>\n      <td>1</td>\n      <td>1</td>\n      <td>1</td>\n      <td>1</td>\n      <td>1</td>\n      <td>1</td>\n      <td>1</td>\n      <td>1</td>\n      <td>1</td>\n      <td>1</td>\n      <td>1</td>\n      <td>1</td>\n      <td>1</td>\n      <td>0</td>\n      <td>0</td>\n      <td>0</td>\n      <td>0</td>\n      <td>0</td>\n      <td>0</td>\n      <td>0</td>\n      <td>0</td>\n      <td>0</td>\n      <td>0</td>\n      <td>0</td>\n      <td>1</td>\n      <td>0</td>\n      <td>0</td>\n      <td>0</td>\n    </tr>\n    <tr>\n      <th>DLF Forum</th>\n      <td>31</td>\n      <td>0</td>\n      <td>0</td>\n      <td>0</td>\n      <td>0</td>\n      <td>0</td>\n      <td>0</td>\n      <td>0</td>\n      <td>0</td>\n      <td>0</td>\n      <td>0</td>\n      <td>0</td>\n      <td>0</td>\n      <td>0</td>\n      <td>0</td>\n      <td>0</td>\n      <td>0</td>\n      <td>0</td>\n      <td>0</td>\n      <td>0</td>\n      <td>0</td>\n      <td>0</td>\n      <td>0</td>\n      <td>0</td>\n      <td>0</td>\n      <td>0</td>\n      <td>0</td>\n      <td>0</td>\n      <td>0</td>\n      <td>1</td>\n      <td>2</td>\n      <td>2</td>\n      <td>2</td>\n      <td>2</td>\n      <td>2</td>\n      <td>2</td>\n      <td>2</td>\n      <td>2</td>\n      <td>2</td>\n      <td>2</td>\n      <td>1</td>\n      <td>1</td>\n      <td>1</td>\n      <td>1</td>\n      <td>1</td>\n      <td>1</td>\n      <td>1</td>\n      <td>1</td>\n      <td>1</td>\n      <td>1</td>\n      <td>0</td>\n      <td>0</td>\n    </tr>\n    <tr>\n      <th>ACH/ICCH</th>\n      <td>27</td>\n      <td>0</td>\n      <td>0</td>\n      <td>1</td>\n      <td>0</td>\n      <td>1</td>\n      <td>0</td>\n      <td>1</td>\n      <td>0</td>\n      <td>1</td>\n      <td>0</td>\n      <td>1</td>\n      <td>0</td>\n      <td>1</td>\n      <td>0</td>\n      <td>1</td>\n      <td>0</td>\n      <td>1</td>\n      <td>0</td>\n      <td>1</td>\n      <td>1</td>\n      <td>1</td>\n      <td>1</td>\n      <td>1</td>\n      <td>1</td>\n      <td>1</td>\n      <td>1</td>\n      <td>1</td>\n      <td>1</td>\n      <td>1</td>\n      <td>1</td>\n      <td>1</td>\n      <td>1</td>\n      <td>1</td>\n      <td>1</td>\n      <td>1</td>\n      <td>1</td>\n      <td>0</td>\n      <td>0</td>\n      <td>0</td>\n      <td>0</td>\n      <td>0</td>\n      <td>0</td>\n      <td>0</td>\n      <td>0</td>\n      <td>0</td>\n      <td>0</td>\n      <td>0</td>\n      <td>0</td>\n      <td>1</td>\n      <td>0</td>\n      <td>0</td>\n    </tr>\n    <tr>\n      <th>AGE</th>\n      <td>25</td>\n      <td>0</td>\n      <td>0</td>\n      <td>0</td>\n      <td>0</td>\n      <td>0</td>\n      <td>0</td>\n      <td>0</td>\n      <td>0</td>\n      <td>0</td>\n      <td>0</td>\n      <td>0</td>\n      <td>0</td>\n      <td>0</td>\n      <td>0</td>\n      <td>0</td>\n      <td>0</td>\n      <td>0</td>\n      <td>0</td>\n      <td>0</td>\n      <td>0</td>\n      <td>0</td>\n      <td>0</td>\n      <td>0</td>\n      <td>1</td>\n      <td>1</td>\n      <td>0</td>\n      <td>1</td>\n      <td>1</td>\n      <td>1</td>\n      <td>1</td>\n      <td>1</td>\n      <td>1</td>\n      <td>1</td>\n      <td>1</td>\n      <td>1</td>\n      <td>1</td>\n      <td>1</td>\n      <td>1</td>\n      <td>1</td>\n      <td>1</td>\n      <td>1</td>\n      <td>1</td>\n      <td>1</td>\n      <td>1</td>\n      <td>1</td>\n      <td>1</td>\n      <td>1</td>\n      <td>1</td>\n      <td>1</td>\n      <td>0</td>\n      <td>0</td>\n    </tr>\n    <tr>\n      <th>DRHA</th>\n      <td>24</td>\n      <td>0</td>\n      <td>0</td>\n      <td>0</td>\n      <td>0</td>\n      <td>0</td>\n      <td>0</td>\n      <td>0</td>\n      <td>0</td>\n      <td>0</td>\n      <td>0</td>\n      <td>0</td>\n      <td>0</td>\n      <td>0</td>\n      <td>0</td>\n      <td>0</td>\n      <td>0</td>\n      <td>0</td>\n      <td>0</td>\n      <td>0</td>\n      <td>0</td>\n      <td>0</td>\n      <td>0</td>\n      <td>0</td>\n      <td>0</td>\n      <td>0</td>\n      <td>1</td>\n      <td>1</td>\n      <td>1</td>\n      <td>1</td>\n      <td>1</td>\n      <td>1</td>\n      <td>1</td>\n      <td>1</td>\n      <td>1</td>\n      <td>1</td>\n      <td>1</td>\n      <td>1</td>\n      <td>1</td>\n      <td>1</td>\n      <td>1</td>\n      <td>1</td>\n      <td>0</td>\n      <td>1</td>\n      <td>1</td>\n      <td>1</td>\n      <td>1</td>\n      <td>1</td>\n      <td>1</td>\n      <td>1</td>\n      <td>1</td>\n      <td>0</td>\n    </tr>\n    <tr>\n      <th>TEI</th>\n      <td>18</td>\n      <td>0</td>\n      <td>0</td>\n      <td>0</td>\n      <td>0</td>\n      <td>0</td>\n      <td>0</td>\n      <td>0</td>\n      <td>0</td>\n      <td>0</td>\n      <td>0</td>\n      <td>0</td>\n      <td>0</td>\n      <td>0</td>\n      <td>0</td>\n      <td>0</td>\n      <td>0</td>\n      <td>0</td>\n      <td>0</td>\n      <td>0</td>\n      <td>0</td>\n      <td>0</td>\n      <td>0</td>\n      <td>0</td>\n      <td>0</td>\n      <td>0</td>\n      <td>0</td>\n      <td>1</td>\n      <td>0</td>\n      <td>0</td>\n      <td>0</td>\n      <td>1</td>\n      <td>1</td>\n      <td>1</td>\n      <td>1</td>\n      <td>1</td>\n      <td>1</td>\n      <td>1</td>\n      <td>0</td>\n      <td>1</td>\n      <td>1</td>\n      <td>1</td>\n      <td>0</td>\n      <td>1</td>\n      <td>1</td>\n      <td>1</td>\n      <td>1</td>\n      <td>1</td>\n      <td>1</td>\n      <td>1</td>\n      <td>0</td>\n      <td>0</td>\n    </tr>\n    <tr>\n      <th>ACH/ALLC</th>\n      <td>18</td>\n      <td>0</td>\n      <td>0</td>\n      <td>0</td>\n      <td>0</td>\n      <td>0</td>\n      <td>0</td>\n      <td>0</td>\n      <td>0</td>\n      <td>0</td>\n      <td>0</td>\n      <td>0</td>\n      <td>0</td>\n      <td>0</td>\n      <td>0</td>\n      <td>0</td>\n      <td>0</td>\n      <td>0</td>\n      <td>0</td>\n      <td>1</td>\n      <td>1</td>\n      <td>1</td>\n      <td>1</td>\n      <td>1</td>\n      <td>1</td>\n      <td>1</td>\n      <td>1</td>\n      <td>1</td>\n      <td>1</td>\n      <td>1</td>\n      <td>1</td>\n      <td>1</td>\n      <td>1</td>\n      <td>1</td>\n      <td>1</td>\n      <td>1</td>\n      <td>1</td>\n      <td>0</td>\n      <td>0</td>\n      <td>0</td>\n      <td>0</td>\n      <td>0</td>\n      <td>0</td>\n      <td>0</td>\n      <td>0</td>\n      <td>0</td>\n      <td>0</td>\n      <td>0</td>\n      <td>0</td>\n      <td>0</td>\n      <td>0</td>\n      <td>0</td>\n    </tr>\n    <tr>\n      <th>WebWise</th>\n      <td>15</td>\n      <td>0</td>\n      <td>0</td>\n      <td>0</td>\n      <td>0</td>\n      <td>0</td>\n      <td>0</td>\n      <td>0</td>\n      <td>0</td>\n      <td>0</td>\n      <td>0</td>\n      <td>0</td>\n      <td>0</td>\n      <td>0</td>\n      <td>0</td>\n      <td>0</td>\n      <td>0</td>\n      <td>0</td>\n      <td>0</td>\n      <td>0</td>\n      <td>0</td>\n      <td>0</td>\n      <td>0</td>\n      <td>0</td>\n      <td>0</td>\n      <td>0</td>\n      <td>0</td>\n      <td>0</td>\n      <td>0</td>\n      <td>0</td>\n      <td>1</td>\n      <td>1</td>\n      <td>1</td>\n      <td>1</td>\n      <td>1</td>\n      <td>1</td>\n      <td>1</td>\n      <td>1</td>\n      <td>1</td>\n      <td>1</td>\n      <td>1</td>\n      <td>1</td>\n      <td>1</td>\n      <td>1</td>\n      <td>1</td>\n      <td>0</td>\n      <td>0</td>\n      <td>0</td>\n      <td>0</td>\n      <td>0</td>\n      <td>0</td>\n      <td>0</td>\n    </tr>\n    <tr>\n      <th>AHC</th>\n      <td>15</td>\n      <td>0</td>\n      <td>0</td>\n      <td>0</td>\n      <td>0</td>\n      <td>0</td>\n      <td>0</td>\n      <td>0</td>\n      <td>0</td>\n      <td>0</td>\n      <td>0</td>\n      <td>0</td>\n      <td>0</td>\n      <td>0</td>\n      <td>0</td>\n      <td>0</td>\n      <td>1</td>\n      <td>1</td>\n      <td>1</td>\n      <td>1</td>\n      <td>1</td>\n      <td>1</td>\n      <td>1</td>\n      <td>1</td>\n      <td>1</td>\n      <td>1</td>\n      <td>1</td>\n      <td>0</td>\n      <td>1</td>\n      <td>0</td>\n      <td>0</td>\n      <td>1</td>\n      <td>0</td>\n      <td>1</td>\n      <td>0</td>\n      <td>1</td>\n      <td>0</td>\n      <td>0</td>\n      <td>0</td>\n      <td>0</td>\n      <td>0</td>\n      <td>0</td>\n      <td>0</td>\n      <td>0</td>\n      <td>0</td>\n      <td>0</td>\n      <td>0</td>\n      <td>0</td>\n      <td>0</td>\n      <td>0</td>\n      <td>0</td>\n      <td>0</td>\n    </tr>\n    <tr>\n      <th>ADHO</th>\n      <td>15</td>\n      <td>0</td>\n      <td>0</td>\n      <td>0</td>\n      <td>0</td>\n      <td>0</td>\n      <td>0</td>\n      <td>0</td>\n      <td>0</td>\n      <td>0</td>\n      <td>0</td>\n      <td>0</td>\n      <td>0</td>\n      <td>0</td>\n      <td>0</td>\n      <td>0</td>\n      <td>0</td>\n      <td>0</td>\n      <td>0</td>\n      <td>0</td>\n      <td>0</td>\n      <td>0</td>\n      <td>0</td>\n      <td>0</td>\n      <td>0</td>\n      <td>0</td>\n      <td>0</td>\n      <td>0</td>\n      <td>0</td>\n      <td>0</td>\n      <td>0</td>\n      <td>0</td>\n      <td>0</td>\n      <td>0</td>\n      <td>0</td>\n      <td>0</td>\n      <td>1</td>\n      <td>1</td>\n      <td>1</td>\n      <td>1</td>\n      <td>1</td>\n      <td>1</td>\n      <td>1</td>\n      <td>1</td>\n      <td>1</td>\n      <td>1</td>\n      <td>1</td>\n      <td>1</td>\n      <td>1</td>\n      <td>1</td>\n      <td>1</td>\n      <td>0</td>\n    </tr>\n  </tbody>\n</table>\n</div>"
    }
   },
   "source": [
    "### I. Conferences monitored per year\n",
    "{{year_viz.head(10)}}"
   ]
  },
  {
   "cell_type": "markdown",
   "metadata": {},
   "source": [
    "## 1c. Geo stats"
   ]
  },
  {
   "cell_type": "code",
   "execution_count": 7,
   "metadata": {},
   "outputs": [],
   "source": [
    "# make some summaries and aggregations\n",
    "\n",
    "city_counts = membership.pivot_table(index='city',\n",
    "                                     columns='year',\n",
    "                                     aggfunc={'year': 'count'},\n",
    "                                     fill_value=0)\n",
    "city_counts['total'] = city_counts.sum(axis=1)\n",
    "col = city_counts.pop('total')\n",
    "city_counts.insert(0, col.name, col)\n",
    "city_counts = city_counts.sort_values('total', ascending=False)\n",
    "\n",
    "country_counts = membership.pivot_table(index='country',\n",
    "                                        columns='year',\n",
    "                                        aggfunc={'year': 'count'},\n",
    "                                        fill_value=0)\n",
    "country_counts['total'] = country_counts.sum(axis=1)\n",
    "col = country_counts.pop('total')\n",
    "country_counts.insert(0, col.name, col)\n",
    "country_counts = country_counts.sort_values('total', ascending=False)"
   ]
  },
  {
   "cell_type": "markdown",
   "metadata": {
    "variables": {
     "city_counts.head(10)": "<div>\n<style scoped>\n    .dataframe tbody tr th:only-of-type {\n        vertical-align: middle;\n    }\n\n    .dataframe tbody tr th {\n        vertical-align: top;\n    }\n\n    .dataframe thead tr th {\n        text-align: left;\n    }\n\n    .dataframe thead tr:last-of-type th {\n        text-align: right;\n    }\n</style>\n<table border=\"1\" class=\"dataframe\">\n  <thead>\n    <tr>\n      <th></th>\n      <th>total</th>\n      <th colspan=\"58\" halign=\"left\">year</th>\n    </tr>\n    <tr>\n      <th>year</th>\n      <th></th>\n      <th>1960</th>\n      <th>1964</th>\n      <th>1965</th>\n      <th>1966</th>\n      <th>1967</th>\n      <th>1968</th>\n      <th>1969</th>\n      <th>1970</th>\n      <th>1972</th>\n      <th>1973</th>\n      <th>1974</th>\n      <th>1975</th>\n      <th>1976</th>\n      <th>1977</th>\n      <th>1978</th>\n      <th>1979</th>\n      <th>1980</th>\n      <th>1981</th>\n      <th>1982</th>\n      <th>1983</th>\n      <th>1984</th>\n      <th>1985</th>\n      <th>1986</th>\n      <th>1987</th>\n      <th>1988</th>\n      <th>1989</th>\n      <th>1990</th>\n      <th>1991</th>\n      <th>1992</th>\n      <th>1993</th>\n      <th>1994</th>\n      <th>1995</th>\n      <th>1996</th>\n      <th>1997</th>\n      <th>1998</th>\n      <th>1999</th>\n      <th>2000</th>\n      <th>2001</th>\n      <th>2002</th>\n      <th>2003</th>\n      <th>2004</th>\n      <th>2005</th>\n      <th>2006</th>\n      <th>2007</th>\n      <th>2008</th>\n      <th>2009</th>\n      <th>2010</th>\n      <th>2011</th>\n      <th>2012</th>\n      <th>2013</th>\n      <th>2014</th>\n      <th>2015</th>\n      <th>2016</th>\n      <th>2017</th>\n      <th>2018</th>\n      <th>2019</th>\n      <th>2020</th>\n      <th>2021</th>\n    </tr>\n    <tr>\n      <th>city</th>\n      <th></th>\n      <th></th>\n      <th></th>\n      <th></th>\n      <th></th>\n      <th></th>\n      <th></th>\n      <th></th>\n      <th></th>\n      <th></th>\n      <th></th>\n      <th></th>\n      <th></th>\n      <th></th>\n      <th></th>\n      <th></th>\n      <th></th>\n      <th></th>\n      <th></th>\n      <th></th>\n      <th></th>\n      <th></th>\n      <th></th>\n      <th></th>\n      <th></th>\n      <th></th>\n      <th></th>\n      <th></th>\n      <th></th>\n      <th></th>\n      <th></th>\n      <th></th>\n      <th></th>\n      <th></th>\n      <th></th>\n      <th></th>\n      <th></th>\n      <th></th>\n      <th></th>\n      <th></th>\n      <th></th>\n      <th></th>\n      <th></th>\n      <th></th>\n      <th></th>\n      <th></th>\n      <th></th>\n      <th></th>\n      <th></th>\n      <th></th>\n      <th></th>\n      <th></th>\n      <th></th>\n      <th></th>\n      <th></th>\n      <th></th>\n      <th></th>\n      <th></th>\n      <th></th>\n    </tr>\n  </thead>\n  <tbody>\n    <tr>\n      <th>Chicago</th>\n      <td>18</td>\n      <td>0</td>\n      <td>0</td>\n      <td>0</td>\n      <td>0</td>\n      <td>0</td>\n      <td>0</td>\n      <td>0</td>\n      <td>0</td>\n      <td>0</td>\n      <td>0</td>\n      <td>0</td>\n      <td>0</td>\n      <td>0</td>\n      <td>0</td>\n      <td>0</td>\n      <td>0</td>\n      <td>0</td>\n      <td>0</td>\n      <td>0</td>\n      <td>0</td>\n      <td>0</td>\n      <td>0</td>\n      <td>0</td>\n      <td>0</td>\n      <td>0</td>\n      <td>0</td>\n      <td>0</td>\n      <td>0</td>\n      <td>0</td>\n      <td>0</td>\n      <td>0</td>\n      <td>0</td>\n      <td>0</td>\n      <td>0</td>\n      <td>0</td>\n      <td>0</td>\n      <td>1</td>\n      <td>0</td>\n      <td>2</td>\n      <td>0</td>\n      <td>1</td>\n      <td>0</td>\n      <td>1</td>\n      <td>1</td>\n      <td>1</td>\n      <td>1</td>\n      <td>2</td>\n      <td>1</td>\n      <td>1</td>\n      <td>1</td>\n      <td>0</td>\n      <td>1</td>\n      <td>1</td>\n      <td>1</td>\n      <td>1</td>\n      <td>1</td>\n      <td>0</td>\n      <td>0</td>\n    </tr>\n    <tr>\n      <th>London</th>\n      <td>13</td>\n      <td>0</td>\n      <td>0</td>\n      <td>0</td>\n      <td>0</td>\n      <td>0</td>\n      <td>0</td>\n      <td>0</td>\n      <td>0</td>\n      <td>0</td>\n      <td>0</td>\n      <td>1</td>\n      <td>0</td>\n      <td>0</td>\n      <td>0</td>\n      <td>1</td>\n      <td>0</td>\n      <td>0</td>\n      <td>0</td>\n      <td>0</td>\n      <td>0</td>\n      <td>0</td>\n      <td>0</td>\n      <td>1</td>\n      <td>1</td>\n      <td>0</td>\n      <td>0</td>\n      <td>0</td>\n      <td>0</td>\n      <td>0</td>\n      <td>0</td>\n      <td>0</td>\n      <td>0</td>\n      <td>0</td>\n      <td>0</td>\n      <td>0</td>\n      <td>2</td>\n      <td>0</td>\n      <td>1</td>\n      <td>1</td>\n      <td>0</td>\n      <td>1</td>\n      <td>0</td>\n      <td>0</td>\n      <td>0</td>\n      <td>0</td>\n      <td>0</td>\n      <td>2</td>\n      <td>0</td>\n      <td>0</td>\n      <td>0</td>\n      <td>1</td>\n      <td>0</td>\n      <td>0</td>\n      <td>0</td>\n      <td>0</td>\n      <td>1</td>\n      <td>0</td>\n      <td>0</td>\n    </tr>\n    <tr>\n      <th>Washington, D.C.</th>\n      <td>11</td>\n      <td>0</td>\n      <td>0</td>\n      <td>1</td>\n      <td>0</td>\n      <td>0</td>\n      <td>0</td>\n      <td>0</td>\n      <td>0</td>\n      <td>0</td>\n      <td>0</td>\n      <td>0</td>\n      <td>0</td>\n      <td>0</td>\n      <td>0</td>\n      <td>0</td>\n      <td>0</td>\n      <td>0</td>\n      <td>0</td>\n      <td>0</td>\n      <td>0</td>\n      <td>0</td>\n      <td>0</td>\n      <td>0</td>\n      <td>0</td>\n      <td>0</td>\n      <td>0</td>\n      <td>0</td>\n      <td>0</td>\n      <td>0</td>\n      <td>3</td>\n      <td>0</td>\n      <td>0</td>\n      <td>0</td>\n      <td>0</td>\n      <td>0</td>\n      <td>0</td>\n      <td>1</td>\n      <td>1</td>\n      <td>0</td>\n      <td>1</td>\n      <td>1</td>\n      <td>1</td>\n      <td>0</td>\n      <td>0</td>\n      <td>0</td>\n      <td>1</td>\n      <td>0</td>\n      <td>0</td>\n      <td>0</td>\n      <td>0</td>\n      <td>0</td>\n      <td>0</td>\n      <td>0</td>\n      <td>0</td>\n      <td>0</td>\n      <td>0</td>\n      <td>1</td>\n      <td>0</td>\n    </tr>\n    <tr>\n      <th>Lawrence</th>\n      <td>11</td>\n      <td>0</td>\n      <td>0</td>\n      <td>0</td>\n      <td>0</td>\n      <td>0</td>\n      <td>0</td>\n      <td>1</td>\n      <td>0</td>\n      <td>0</td>\n      <td>0</td>\n      <td>0</td>\n      <td>0</td>\n      <td>0</td>\n      <td>0</td>\n      <td>0</td>\n      <td>0</td>\n      <td>0</td>\n      <td>0</td>\n      <td>0</td>\n      <td>0</td>\n      <td>0</td>\n      <td>0</td>\n      <td>0</td>\n      <td>0</td>\n      <td>0</td>\n      <td>0</td>\n      <td>0</td>\n      <td>0</td>\n      <td>0</td>\n      <td>0</td>\n      <td>0</td>\n      <td>0</td>\n      <td>0</td>\n      <td>0</td>\n      <td>0</td>\n      <td>0</td>\n      <td>0</td>\n      <td>0</td>\n      <td>0</td>\n      <td>0</td>\n      <td>0</td>\n      <td>0</td>\n      <td>0</td>\n      <td>0</td>\n      <td>0</td>\n      <td>0</td>\n      <td>0</td>\n      <td>1</td>\n      <td>1</td>\n      <td>1</td>\n      <td>1</td>\n      <td>1</td>\n      <td>1</td>\n      <td>1</td>\n      <td>2</td>\n      <td>1</td>\n      <td>0</td>\n      <td>0</td>\n    </tr>\n    <tr>\n      <th>New York</th>\n      <td>10</td>\n      <td>0</td>\n      <td>0</td>\n      <td>0</td>\n      <td>1</td>\n      <td>0</td>\n      <td>1</td>\n      <td>0</td>\n      <td>0</td>\n      <td>0</td>\n      <td>0</td>\n      <td>0</td>\n      <td>0</td>\n      <td>0</td>\n      <td>0</td>\n      <td>0</td>\n      <td>0</td>\n      <td>0</td>\n      <td>0</td>\n      <td>0</td>\n      <td>0</td>\n      <td>0</td>\n      <td>0</td>\n      <td>0</td>\n      <td>0</td>\n      <td>0</td>\n      <td>0</td>\n      <td>0</td>\n      <td>0</td>\n      <td>0</td>\n      <td>0</td>\n      <td>0</td>\n      <td>0</td>\n      <td>0</td>\n      <td>0</td>\n      <td>0</td>\n      <td>0</td>\n      <td>0</td>\n      <td>3</td>\n      <td>0</td>\n      <td>1</td>\n      <td>0</td>\n      <td>0</td>\n      <td>0</td>\n      <td>0</td>\n      <td>0</td>\n      <td>0</td>\n      <td>0</td>\n      <td>0</td>\n      <td>0</td>\n      <td>0</td>\n      <td>1</td>\n      <td>1</td>\n      <td>1</td>\n      <td>0</td>\n      <td>0</td>\n      <td>1</td>\n      <td>0</td>\n      <td>0</td>\n    </tr>\n    <tr>\n      <th>Taipei</th>\n      <td>10</td>\n      <td>0</td>\n      <td>0</td>\n      <td>0</td>\n      <td>0</td>\n      <td>0</td>\n      <td>0</td>\n      <td>0</td>\n      <td>0</td>\n      <td>0</td>\n      <td>0</td>\n      <td>0</td>\n      <td>0</td>\n      <td>0</td>\n      <td>0</td>\n      <td>0</td>\n      <td>0</td>\n      <td>0</td>\n      <td>0</td>\n      <td>0</td>\n      <td>0</td>\n      <td>0</td>\n      <td>0</td>\n      <td>0</td>\n      <td>0</td>\n      <td>0</td>\n      <td>0</td>\n      <td>0</td>\n      <td>0</td>\n      <td>0</td>\n      <td>0</td>\n      <td>0</td>\n      <td>0</td>\n      <td>0</td>\n      <td>0</td>\n      <td>0</td>\n      <td>0</td>\n      <td>0</td>\n      <td>0</td>\n      <td>0</td>\n      <td>0</td>\n      <td>0</td>\n      <td>0</td>\n      <td>0</td>\n      <td>0</td>\n      <td>0</td>\n      <td>1</td>\n      <td>1</td>\n      <td>1</td>\n      <td>1</td>\n      <td>0</td>\n      <td>1</td>\n      <td>1</td>\n      <td>1</td>\n      <td>1</td>\n      <td>1</td>\n      <td>1</td>\n      <td>0</td>\n      <td>0</td>\n    </tr>\n    <tr>\n      <th>Baltimore</th>\n      <td>8</td>\n      <td>0</td>\n      <td>0</td>\n      <td>0</td>\n      <td>0</td>\n      <td>0</td>\n      <td>0</td>\n      <td>0</td>\n      <td>0</td>\n      <td>0</td>\n      <td>0</td>\n      <td>0</td>\n      <td>0</td>\n      <td>0</td>\n      <td>0</td>\n      <td>0</td>\n      <td>0</td>\n      <td>0</td>\n      <td>0</td>\n      <td>0</td>\n      <td>0</td>\n      <td>0</td>\n      <td>0</td>\n      <td>0</td>\n      <td>0</td>\n      <td>0</td>\n      <td>0</td>\n      <td>0</td>\n      <td>0</td>\n      <td>0</td>\n      <td>0</td>\n      <td>0</td>\n      <td>0</td>\n      <td>0</td>\n      <td>0</td>\n      <td>0</td>\n      <td>0</td>\n      <td>0</td>\n      <td>0</td>\n      <td>1</td>\n      <td>0</td>\n      <td>2</td>\n      <td>0</td>\n      <td>0</td>\n      <td>0</td>\n      <td>0</td>\n      <td>0</td>\n      <td>0</td>\n      <td>2</td>\n      <td>1</td>\n      <td>1</td>\n      <td>1</td>\n      <td>0</td>\n      <td>0</td>\n      <td>0</td>\n      <td>0</td>\n      <td>0</td>\n      <td>0</td>\n      <td>0</td>\n    </tr>\n    <tr>\n      <th>Pittsburgh</th>\n      <td>8</td>\n      <td>0</td>\n      <td>1</td>\n      <td>0</td>\n      <td>0</td>\n      <td>1</td>\n      <td>0</td>\n      <td>0</td>\n      <td>0</td>\n      <td>0</td>\n      <td>0</td>\n      <td>0</td>\n      <td>0</td>\n      <td>0</td>\n      <td>0</td>\n      <td>0</td>\n      <td>0</td>\n      <td>0</td>\n      <td>0</td>\n      <td>0</td>\n      <td>0</td>\n      <td>0</td>\n      <td>0</td>\n      <td>0</td>\n      <td>0</td>\n      <td>0</td>\n      <td>1</td>\n      <td>0</td>\n      <td>0</td>\n      <td>0</td>\n      <td>0</td>\n      <td>0</td>\n      <td>0</td>\n      <td>0</td>\n      <td>0</td>\n      <td>0</td>\n      <td>0</td>\n      <td>0</td>\n      <td>1</td>\n      <td>0</td>\n      <td>0</td>\n      <td>0</td>\n      <td>0</td>\n      <td>0</td>\n      <td>0</td>\n      <td>0</td>\n      <td>0</td>\n      <td>0</td>\n      <td>0</td>\n      <td>0</td>\n      <td>0</td>\n      <td>0</td>\n      <td>0</td>\n      <td>1</td>\n      <td>1</td>\n      <td>0</td>\n      <td>2</td>\n      <td>0</td>\n      <td>0</td>\n    </tr>\n    <tr>\n      <th>Lincoln</th>\n      <td>8</td>\n      <td>0</td>\n      <td>0</td>\n      <td>0</td>\n      <td>0</td>\n      <td>0</td>\n      <td>0</td>\n      <td>0</td>\n      <td>0</td>\n      <td>0</td>\n      <td>0</td>\n      <td>0</td>\n      <td>0</td>\n      <td>0</td>\n      <td>0</td>\n      <td>0</td>\n      <td>0</td>\n      <td>0</td>\n      <td>0</td>\n      <td>0</td>\n      <td>0</td>\n      <td>0</td>\n      <td>0</td>\n      <td>0</td>\n      <td>0</td>\n      <td>0</td>\n      <td>0</td>\n      <td>0</td>\n      <td>0</td>\n      <td>0</td>\n      <td>0</td>\n      <td>0</td>\n      <td>0</td>\n      <td>0</td>\n      <td>0</td>\n      <td>0</td>\n      <td>0</td>\n      <td>0</td>\n      <td>0</td>\n      <td>0</td>\n      <td>0</td>\n      <td>0</td>\n      <td>0</td>\n      <td>0</td>\n      <td>0</td>\n      <td>0</td>\n      <td>0</td>\n      <td>0</td>\n      <td>0</td>\n      <td>0</td>\n      <td>2</td>\n      <td>1</td>\n      <td>1</td>\n      <td>1</td>\n      <td>1</td>\n      <td>2</td>\n      <td>0</td>\n      <td>0</td>\n      <td>0</td>\n    </tr>\n    <tr>\n      <th>Paris</th>\n      <td>8</td>\n      <td>0</td>\n      <td>0</td>\n      <td>0</td>\n      <td>0</td>\n      <td>0</td>\n      <td>0</td>\n      <td>0</td>\n      <td>0</td>\n      <td>0</td>\n      <td>0</td>\n      <td>0</td>\n      <td>0</td>\n      <td>0</td>\n      <td>0</td>\n      <td>0</td>\n      <td>0</td>\n      <td>0</td>\n      <td>0</td>\n      <td>0</td>\n      <td>0</td>\n      <td>0</td>\n      <td>0</td>\n      <td>0</td>\n      <td>0</td>\n      <td>0</td>\n      <td>0</td>\n      <td>0</td>\n      <td>0</td>\n      <td>0</td>\n      <td>0</td>\n      <td>3</td>\n      <td>0</td>\n      <td>0</td>\n      <td>0</td>\n      <td>0</td>\n      <td>0</td>\n      <td>0</td>\n      <td>0</td>\n      <td>0</td>\n      <td>0</td>\n      <td>0</td>\n      <td>0</td>\n      <td>4</td>\n      <td>0</td>\n      <td>0</td>\n      <td>0</td>\n      <td>0</td>\n      <td>0</td>\n      <td>0</td>\n      <td>1</td>\n      <td>0</td>\n      <td>0</td>\n      <td>0</td>\n      <td>0</td>\n      <td>0</td>\n      <td>0</td>\n      <td>0</td>\n      <td>0</td>\n    </tr>\n  </tbody>\n</table>\n</div>"
    }
   },
   "source": [
    "### I. Top 10 cities hosting a conference\n",
    "{{city_counts.head(10)}}"
   ]
  },
  {
   "cell_type": "markdown",
   "metadata": {
    "variables": {
     "country_counts.head(10)": "<div>\n<style scoped>\n    .dataframe tbody tr th:only-of-type {\n        vertical-align: middle;\n    }\n\n    .dataframe tbody tr th {\n        vertical-align: top;\n    }\n\n    .dataframe thead tr th {\n        text-align: left;\n    }\n\n    .dataframe thead tr:last-of-type th {\n        text-align: right;\n    }\n</style>\n<table border=\"1\" class=\"dataframe\">\n  <thead>\n    <tr>\n      <th></th>\n      <th>total</th>\n      <th colspan=\"58\" halign=\"left\">year</th>\n    </tr>\n    <tr>\n      <th>year</th>\n      <th></th>\n      <th>1960</th>\n      <th>1964</th>\n      <th>1965</th>\n      <th>1966</th>\n      <th>1967</th>\n      <th>1968</th>\n      <th>1969</th>\n      <th>1970</th>\n      <th>1972</th>\n      <th>1973</th>\n      <th>1974</th>\n      <th>1975</th>\n      <th>1976</th>\n      <th>1977</th>\n      <th>1978</th>\n      <th>1979</th>\n      <th>1980</th>\n      <th>1981</th>\n      <th>1982</th>\n      <th>1983</th>\n      <th>1984</th>\n      <th>1985</th>\n      <th>1986</th>\n      <th>1987</th>\n      <th>1988</th>\n      <th>1989</th>\n      <th>1990</th>\n      <th>1991</th>\n      <th>1992</th>\n      <th>1993</th>\n      <th>1994</th>\n      <th>1995</th>\n      <th>1996</th>\n      <th>1997</th>\n      <th>1998</th>\n      <th>1999</th>\n      <th>2000</th>\n      <th>2001</th>\n      <th>2002</th>\n      <th>2003</th>\n      <th>2004</th>\n      <th>2005</th>\n      <th>2006</th>\n      <th>2007</th>\n      <th>2008</th>\n      <th>2009</th>\n      <th>2010</th>\n      <th>2011</th>\n      <th>2012</th>\n      <th>2013</th>\n      <th>2014</th>\n      <th>2015</th>\n      <th>2016</th>\n      <th>2017</th>\n      <th>2018</th>\n      <th>2019</th>\n      <th>2020</th>\n      <th>2021</th>\n    </tr>\n    <tr>\n      <th>country</th>\n      <th></th>\n      <th></th>\n      <th></th>\n      <th></th>\n      <th></th>\n      <th></th>\n      <th></th>\n      <th></th>\n      <th></th>\n      <th></th>\n      <th></th>\n      <th></th>\n      <th></th>\n      <th></th>\n      <th></th>\n      <th></th>\n      <th></th>\n      <th></th>\n      <th></th>\n      <th></th>\n      <th></th>\n      <th></th>\n      <th></th>\n      <th></th>\n      <th></th>\n      <th></th>\n      <th></th>\n      <th></th>\n      <th></th>\n      <th></th>\n      <th></th>\n      <th></th>\n      <th></th>\n      <th></th>\n      <th></th>\n      <th></th>\n      <th></th>\n      <th></th>\n      <th></th>\n      <th></th>\n      <th></th>\n      <th></th>\n      <th></th>\n      <th></th>\n      <th></th>\n      <th></th>\n      <th></th>\n      <th></th>\n      <th></th>\n      <th></th>\n      <th></th>\n      <th></th>\n      <th></th>\n      <th></th>\n      <th></th>\n      <th></th>\n      <th></th>\n      <th></th>\n      <th></th>\n    </tr>\n  </thead>\n  <tbody>\n    <tr>\n      <th>United States</th>\n      <td>227</td>\n      <td>0</td>\n      <td>3</td>\n      <td>5</td>\n      <td>2</td>\n      <td>2</td>\n      <td>1</td>\n      <td>4</td>\n      <td>0</td>\n      <td>0</td>\n      <td>1</td>\n      <td>0</td>\n      <td>1</td>\n      <td>0</td>\n      <td>0</td>\n      <td>0</td>\n      <td>2</td>\n      <td>0</td>\n      <td>2</td>\n      <td>0</td>\n      <td>3</td>\n      <td>0</td>\n      <td>2</td>\n      <td>1</td>\n      <td>3</td>\n      <td>1</td>\n      <td>1</td>\n      <td>4</td>\n      <td>4</td>\n      <td>0</td>\n      <td>3</td>\n      <td>0</td>\n      <td>3</td>\n      <td>0</td>\n      <td>2</td>\n      <td>1</td>\n      <td>5</td>\n      <td>4</td>\n      <td>7</td>\n      <td>5</td>\n      <td>7</td>\n      <td>5</td>\n      <td>4</td>\n      <td>5</td>\n      <td>8</td>\n      <td>6</td>\n      <td>8</td>\n      <td>5</td>\n      <td>9</td>\n      <td>6</td>\n      <td>8</td>\n      <td>12</td>\n      <td>11</td>\n      <td>15</td>\n      <td>12</td>\n      <td>13</td>\n      <td>14</td>\n      <td>7</td>\n      <td>0</td>\n    </tr>\n    <tr>\n      <th>United Kingdom</th>\n      <td>57</td>\n      <td>0</td>\n      <td>0</td>\n      <td>0</td>\n      <td>0</td>\n      <td>0</td>\n      <td>0</td>\n      <td>0</td>\n      <td>1</td>\n      <td>1</td>\n      <td>0</td>\n      <td>2</td>\n      <td>0</td>\n      <td>1</td>\n      <td>0</td>\n      <td>2</td>\n      <td>0</td>\n      <td>1</td>\n      <td>1</td>\n      <td>0</td>\n      <td>0</td>\n      <td>0</td>\n      <td>0</td>\n      <td>2</td>\n      <td>1</td>\n      <td>1</td>\n      <td>1</td>\n      <td>2</td>\n      <td>1</td>\n      <td>4</td>\n      <td>1</td>\n      <td>2</td>\n      <td>0</td>\n      <td>1</td>\n      <td>1</td>\n      <td>2</td>\n      <td>2</td>\n      <td>4</td>\n      <td>1</td>\n      <td>2</td>\n      <td>1</td>\n      <td>2</td>\n      <td>1</td>\n      <td>1</td>\n      <td>1</td>\n      <td>1</td>\n      <td>1</td>\n      <td>2</td>\n      <td>0</td>\n      <td>1</td>\n      <td>1</td>\n      <td>2</td>\n      <td>0</td>\n      <td>2</td>\n      <td>1</td>\n      <td>1</td>\n      <td>1</td>\n      <td>1</td>\n      <td>0</td>\n    </tr>\n    <tr>\n      <th>Germany</th>\n      <td>43</td>\n      <td>1</td>\n      <td>0</td>\n      <td>0</td>\n      <td>0</td>\n      <td>0</td>\n      <td>0</td>\n      <td>0</td>\n      <td>1</td>\n      <td>0</td>\n      <td>0</td>\n      <td>0</td>\n      <td>0</td>\n      <td>0</td>\n      <td>0</td>\n      <td>0</td>\n      <td>0</td>\n      <td>0</td>\n      <td>0</td>\n      <td>0</td>\n      <td>0</td>\n      <td>0</td>\n      <td>0</td>\n      <td>0</td>\n      <td>0</td>\n      <td>2</td>\n      <td>0</td>\n      <td>0</td>\n      <td>0</td>\n      <td>0</td>\n      <td>0</td>\n      <td>1</td>\n      <td>1</td>\n      <td>0</td>\n      <td>1</td>\n      <td>1</td>\n      <td>1</td>\n      <td>1</td>\n      <td>1</td>\n      <td>4</td>\n      <td>1</td>\n      <td>1</td>\n      <td>1</td>\n      <td>1</td>\n      <td>1</td>\n      <td>1</td>\n      <td>1</td>\n      <td>1</td>\n      <td>1</td>\n      <td>2</td>\n      <td>1</td>\n      <td>2</td>\n      <td>2</td>\n      <td>2</td>\n      <td>1</td>\n      <td>3</td>\n      <td>4</td>\n      <td>2</td>\n      <td>0</td>\n    </tr>\n    <tr>\n      <th>Canada</th>\n      <td>23</td>\n      <td>0</td>\n      <td>0</td>\n      <td>0</td>\n      <td>0</td>\n      <td>0</td>\n      <td>0</td>\n      <td>0</td>\n      <td>0</td>\n      <td>0</td>\n      <td>0</td>\n      <td>0</td>\n      <td>0</td>\n      <td>0</td>\n      <td>1</td>\n      <td>0</td>\n      <td>0</td>\n      <td>0</td>\n      <td>0</td>\n      <td>0</td>\n      <td>0</td>\n      <td>0</td>\n      <td>0</td>\n      <td>0</td>\n      <td>0</td>\n      <td>0</td>\n      <td>3</td>\n      <td>0</td>\n      <td>0</td>\n      <td>0</td>\n      <td>0</td>\n      <td>0</td>\n      <td>1</td>\n      <td>0</td>\n      <td>3</td>\n      <td>0</td>\n      <td>0</td>\n      <td>0</td>\n      <td>0</td>\n      <td>0</td>\n      <td>0</td>\n      <td>0</td>\n      <td>3</td>\n      <td>1</td>\n      <td>0</td>\n      <td>0</td>\n      <td>0</td>\n      <td>0</td>\n      <td>0</td>\n      <td>0</td>\n      <td>1</td>\n      <td>0</td>\n      <td>2</td>\n      <td>0</td>\n      <td>3</td>\n      <td>2</td>\n      <td>2</td>\n      <td>1</td>\n      <td>0</td>\n    </tr>\n    <tr>\n      <th>France</th>\n      <td>22</td>\n      <td>0</td>\n      <td>0</td>\n      <td>0</td>\n      <td>0</td>\n      <td>0</td>\n      <td>0</td>\n      <td>0</td>\n      <td>0</td>\n      <td>0</td>\n      <td>0</td>\n      <td>0</td>\n      <td>0</td>\n      <td>0</td>\n      <td>0</td>\n      <td>0</td>\n      <td>0</td>\n      <td>0</td>\n      <td>0</td>\n      <td>0</td>\n      <td>0</td>\n      <td>0</td>\n      <td>1</td>\n      <td>0</td>\n      <td>0</td>\n      <td>0</td>\n      <td>1</td>\n      <td>2</td>\n      <td>0</td>\n      <td>0</td>\n      <td>0</td>\n      <td>3</td>\n      <td>0</td>\n      <td>0</td>\n      <td>0</td>\n      <td>0</td>\n      <td>0</td>\n      <td>0</td>\n      <td>0</td>\n      <td>0</td>\n      <td>1</td>\n      <td>0</td>\n      <td>0</td>\n      <td>4</td>\n      <td>0</td>\n      <td>0</td>\n      <td>0</td>\n      <td>0</td>\n      <td>0</td>\n      <td>0</td>\n      <td>1</td>\n      <td>1</td>\n      <td>2</td>\n      <td>1</td>\n      <td>2</td>\n      <td>2</td>\n      <td>1</td>\n      <td>0</td>\n      <td>0</td>\n    </tr>\n    <tr>\n      <th>Russia</th>\n      <td>18</td>\n      <td>0</td>\n      <td>0</td>\n      <td>0</td>\n      <td>0</td>\n      <td>0</td>\n      <td>0</td>\n      <td>0</td>\n      <td>0</td>\n      <td>0</td>\n      <td>0</td>\n      <td>0</td>\n      <td>0</td>\n      <td>0</td>\n      <td>0</td>\n      <td>0</td>\n      <td>0</td>\n      <td>0</td>\n      <td>0</td>\n      <td>0</td>\n      <td>0</td>\n      <td>0</td>\n      <td>0</td>\n      <td>0</td>\n      <td>0</td>\n      <td>0</td>\n      <td>0</td>\n      <td>0</td>\n      <td>0</td>\n      <td>0</td>\n      <td>1</td>\n      <td>1</td>\n      <td>1</td>\n      <td>2</td>\n      <td>1</td>\n      <td>1</td>\n      <td>0</td>\n      <td>1</td>\n      <td>0</td>\n      <td>1</td>\n      <td>0</td>\n      <td>1</td>\n      <td>0</td>\n      <td>1</td>\n      <td>0</td>\n      <td>1</td>\n      <td>0</td>\n      <td>1</td>\n      <td>0</td>\n      <td>1</td>\n      <td>1</td>\n      <td>0</td>\n      <td>0</td>\n      <td>0</td>\n      <td>2</td>\n      <td>1</td>\n      <td>0</td>\n      <td>0</td>\n      <td>0</td>\n    </tr>\n    <tr>\n      <th>Italy</th>\n      <td>15</td>\n      <td>0</td>\n      <td>0</td>\n      <td>0</td>\n      <td>0</td>\n      <td>0</td>\n      <td>0</td>\n      <td>0</td>\n      <td>1</td>\n      <td>0</td>\n      <td>0</td>\n      <td>0</td>\n      <td>0</td>\n      <td>0</td>\n      <td>0</td>\n      <td>0</td>\n      <td>0</td>\n      <td>0</td>\n      <td>0</td>\n      <td>1</td>\n      <td>0</td>\n      <td>0</td>\n      <td>0</td>\n      <td>0</td>\n      <td>0</td>\n      <td>0</td>\n      <td>0</td>\n      <td>0</td>\n      <td>0</td>\n      <td>1</td>\n      <td>0</td>\n      <td>0</td>\n      <td>0</td>\n      <td>0</td>\n      <td>0</td>\n      <td>0</td>\n      <td>0</td>\n      <td>0</td>\n      <td>1</td>\n      <td>0</td>\n      <td>0</td>\n      <td>0</td>\n      <td>0</td>\n      <td>0</td>\n      <td>0</td>\n      <td>0</td>\n      <td>0</td>\n      <td>0</td>\n      <td>0</td>\n      <td>1</td>\n      <td>2</td>\n      <td>1</td>\n      <td>1</td>\n      <td>1</td>\n      <td>1</td>\n      <td>1</td>\n      <td>2</td>\n      <td>1</td>\n      <td>0</td>\n    </tr>\n    <tr>\n      <th>Taiwan</th>\n      <td>11</td>\n      <td>0</td>\n      <td>0</td>\n      <td>0</td>\n      <td>0</td>\n      <td>0</td>\n      <td>0</td>\n      <td>0</td>\n      <td>0</td>\n      <td>0</td>\n      <td>0</td>\n      <td>0</td>\n      <td>0</td>\n      <td>0</td>\n      <td>0</td>\n      <td>0</td>\n      <td>0</td>\n      <td>0</td>\n      <td>0</td>\n      <td>0</td>\n      <td>0</td>\n      <td>0</td>\n      <td>0</td>\n      <td>0</td>\n      <td>0</td>\n      <td>0</td>\n      <td>0</td>\n      <td>0</td>\n      <td>0</td>\n      <td>0</td>\n      <td>0</td>\n      <td>0</td>\n      <td>0</td>\n      <td>0</td>\n      <td>0</td>\n      <td>0</td>\n      <td>0</td>\n      <td>0</td>\n      <td>0</td>\n      <td>0</td>\n      <td>0</td>\n      <td>0</td>\n      <td>0</td>\n      <td>0</td>\n      <td>0</td>\n      <td>0</td>\n      <td>1</td>\n      <td>1</td>\n      <td>1</td>\n      <td>1</td>\n      <td>0</td>\n      <td>1</td>\n      <td>1</td>\n      <td>1</td>\n      <td>1</td>\n      <td>2</td>\n      <td>1</td>\n      <td>0</td>\n      <td>0</td>\n    </tr>\n    <tr>\n      <th>Japan</th>\n      <td>10</td>\n      <td>0</td>\n      <td>0</td>\n      <td>0</td>\n      <td>0</td>\n      <td>0</td>\n      <td>0</td>\n      <td>0</td>\n      <td>0</td>\n      <td>0</td>\n      <td>0</td>\n      <td>0</td>\n      <td>0</td>\n      <td>0</td>\n      <td>0</td>\n      <td>0</td>\n      <td>0</td>\n      <td>0</td>\n      <td>0</td>\n      <td>0</td>\n      <td>0</td>\n      <td>0</td>\n      <td>0</td>\n      <td>0</td>\n      <td>0</td>\n      <td>0</td>\n      <td>0</td>\n      <td>0</td>\n      <td>0</td>\n      <td>0</td>\n      <td>0</td>\n      <td>0</td>\n      <td>0</td>\n      <td>0</td>\n      <td>0</td>\n      <td>0</td>\n      <td>0</td>\n      <td>0</td>\n      <td>0</td>\n      <td>0</td>\n      <td>0</td>\n      <td>0</td>\n      <td>0</td>\n      <td>0</td>\n      <td>0</td>\n      <td>0</td>\n      <td>0</td>\n      <td>0</td>\n      <td>1</td>\n      <td>1</td>\n      <td>1</td>\n      <td>1</td>\n      <td>1</td>\n      <td>1</td>\n      <td>1</td>\n      <td>2</td>\n      <td>1</td>\n      <td>0</td>\n      <td>0</td>\n    </tr>\n    <tr>\n      <th>Netherlands</th>\n      <td>10</td>\n      <td>0</td>\n      <td>0</td>\n      <td>0</td>\n      <td>0</td>\n      <td>0</td>\n      <td>0</td>\n      <td>0</td>\n      <td>0</td>\n      <td>0</td>\n      <td>0</td>\n      <td>0</td>\n      <td>1</td>\n      <td>0</td>\n      <td>0</td>\n      <td>0</td>\n      <td>0</td>\n      <td>0</td>\n      <td>0</td>\n      <td>0</td>\n      <td>0</td>\n      <td>0</td>\n      <td>0</td>\n      <td>0</td>\n      <td>0</td>\n      <td>0</td>\n      <td>0</td>\n      <td>0</td>\n      <td>0</td>\n      <td>0</td>\n      <td>0</td>\n      <td>1</td>\n      <td>0</td>\n      <td>0</td>\n      <td>0</td>\n      <td>0</td>\n      <td>0</td>\n      <td>0</td>\n      <td>0</td>\n      <td>0</td>\n      <td>0</td>\n      <td>0</td>\n      <td>1</td>\n      <td>0</td>\n      <td>0</td>\n      <td>0</td>\n      <td>0</td>\n      <td>0</td>\n      <td>0</td>\n      <td>0</td>\n      <td>0</td>\n      <td>1</td>\n      <td>1</td>\n      <td>0</td>\n      <td>2</td>\n      <td>1</td>\n      <td>1</td>\n      <td>1</td>\n      <td>0</td>\n    </tr>\n  </tbody>\n</table>\n</div>"
    }
   },
   "source": [
    "### II. Top 10 countries hosting a conference\n",
    "{{country_counts.head(10)}}"
   ]
  },
  {
   "cell_type": "markdown",
   "metadata": {},
   "source": [
    "## 1d. ADHO focus\n",
    "The [Alliance of Digital Humanities Organization](https://adho.org/about) is the biggest umbrella organization in the field of digital humanities, with member organization located across the globe. For this reason, it is particularly interesting to focus on this specific conference series. "
   ]
  },
  {
   "cell_type": "code",
   "execution_count": 8,
   "metadata": {},
   "outputs": [],
   "source": [
    "adho = membership.loc[(membership['abbreviation'] == 'ADHO')]"
   ]
  },
  {
   "cell_type": "markdown",
   "metadata": {
    "variables": {
     "adho.head(20)": "<div>\n<style scoped>\n    .dataframe tbody tr th:only-of-type {\n        vertical-align: middle;\n    }\n\n    .dataframe tbody tr th {\n        vertical-align: top;\n    }\n\n    .dataframe thead th {\n        text-align: right;\n    }\n</style>\n<table border=\"1\" class=\"dataframe\">\n  <thead>\n    <tr style=\"text-align: right;\">\n      <th></th>\n      <th>series</th>\n      <th>title</th>\n      <th>abbreviation</th>\n      <th>year</th>\n      <th>start_date</th>\n      <th>label</th>\n      <th>city</th>\n      <th>conference</th>\n      <th>country</th>\n    </tr>\n  </thead>\n  <tbody>\n    <tr>\n      <th>3</th>\n      <td>1.0</td>\n      <td>ADHO Annual Conference</td>\n      <td>ADHO</td>\n      <td>2010</td>\n      <td>2010-07-07</td>\n      <td>2010 - King's College</td>\n      <td>London</td>\n      <td>11.0</td>\n      <td>United Kingdom</td>\n    </tr>\n    <tr>\n      <th>63</th>\n      <td>1.0</td>\n      <td>ADHO Annual Conference</td>\n      <td>ADHO</td>\n      <td>2007</td>\n      <td>2007-06-02</td>\n      <td>2007 - Urbana-Champaign</td>\n      <td>Urbana-Champaign</td>\n      <td>8.0</td>\n      <td>United States</td>\n    </tr>\n    <tr>\n      <th>64</th>\n      <td>1.0</td>\n      <td>ADHO Annual Conference</td>\n      <td>ADHO</td>\n      <td>2009</td>\n      <td>2009-06-20</td>\n      <td>2009 - UMD College Park</td>\n      <td>College Park</td>\n      <td>10.0</td>\n      <td>United States</td>\n    </tr>\n    <tr>\n      <th>65</th>\n      <td>1.0</td>\n      <td>ADHO Annual Conference</td>\n      <td>ADHO</td>\n      <td>2011</td>\n      <td>2011-06-19</td>\n      <td>2011 - Stanford</td>\n      <td>Stanford</td>\n      <td>12.0</td>\n      <td>United States</td>\n    </tr>\n    <tr>\n      <th>66</th>\n      <td>1.0</td>\n      <td>ADHO Annual Conference</td>\n      <td>ADHO</td>\n      <td>2013</td>\n      <td>2013-07-16</td>\n      <td>2013 - Nebraska</td>\n      <td>Lincoln</td>\n      <td>14.0</td>\n      <td>United States</td>\n    </tr>\n    <tr>\n      <th>287</th>\n      <td>1.0</td>\n      <td>ADHO Annual Conference</td>\n      <td>ADHO</td>\n      <td>2012</td>\n      <td>2012-07-16</td>\n      <td>2012 - Hamburg</td>\n      <td>Hamburg</td>\n      <td>13.0</td>\n      <td>Germany</td>\n    </tr>\n    <tr>\n      <th>335</th>\n      <td>1.0</td>\n      <td>ADHO Annual Conference</td>\n      <td>ADHO</td>\n      <td>2017</td>\n      <td>2017-08-08</td>\n      <td>2017 - Montréal</td>\n      <td>Montréal</td>\n      <td>18.0</td>\n      <td>Canada</td>\n    </tr>\n    <tr>\n      <th>354</th>\n      <td>1.0</td>\n      <td>ADHO Annual Conference</td>\n      <td>ADHO</td>\n      <td>2020</td>\n      <td>2020-07-20</td>\n      <td>2020 - Ottawa</td>\n      <td>Ottawa</td>\n      <td>495.0</td>\n      <td>Canada</td>\n    </tr>\n    <tr>\n      <th>355</th>\n      <td>1.0</td>\n      <td>ADHO Annual Conference</td>\n      <td>ADHO</td>\n      <td>2006</td>\n      <td>2006-07-05</td>\n      <td>2006 - Sorbonne</td>\n      <td>Paris</td>\n      <td>7.0</td>\n      <td>France</td>\n    </tr>\n    <tr>\n      <th>377</th>\n      <td>1.0</td>\n      <td>ADHO Annual Conference</td>\n      <td>ADHO</td>\n      <td>2008</td>\n      <td>2008-06-25</td>\n      <td>2008 - Oulu</td>\n      <td>Oulu</td>\n      <td>9.0</td>\n      <td>Finland</td>\n    </tr>\n    <tr>\n      <th>379</th>\n      <td>1.0</td>\n      <td>ADHO Annual Conference</td>\n      <td>ADHO</td>\n      <td>2014</td>\n      <td>2014-07-07</td>\n      <td>2014 - Lausanne</td>\n      <td>Lausanne</td>\n      <td>15.0</td>\n      <td>Switzerland</td>\n    </tr>\n    <tr>\n      <th>382</th>\n      <td>1.0</td>\n      <td>ADHO Annual Conference</td>\n      <td>ADHO</td>\n      <td>2015</td>\n      <td>2015-06-29</td>\n      <td>2015 - Sydney</td>\n      <td>Sydney</td>\n      <td>16.0</td>\n      <td>Australia</td>\n    </tr>\n    <tr>\n      <th>387</th>\n      <td>1.0</td>\n      <td>ADHO Annual Conference</td>\n      <td>ADHO</td>\n      <td>2016</td>\n      <td>2016-07-11</td>\n      <td>2016 - Kraków</td>\n      <td>Kraków</td>\n      <td>17.0</td>\n      <td>Poland</td>\n    </tr>\n    <tr>\n      <th>389</th>\n      <td>1.0</td>\n      <td>ADHO Annual Conference</td>\n      <td>ADHO</td>\n      <td>2018</td>\n      <td>2018-06-26</td>\n      <td>2018 - Mexico City</td>\n      <td>Mexico City</td>\n      <td>20.0</td>\n      <td>Mexico</td>\n    </tr>\n    <tr>\n      <th>395</th>\n      <td>1.0</td>\n      <td>ADHO Annual Conference</td>\n      <td>ADHO</td>\n      <td>2019</td>\n      <td>2019-07-09</td>\n      <td>2019 - Utrecht</td>\n      <td>Utrecht</td>\n      <td>23.0</td>\n      <td>Netherlands</td>\n    </tr>\n  </tbody>\n</table>\n</div>"
    }
   },
   "source": [
    "### I. ADHO Conference list\n",
    "{{adho.head(20)}}"
   ]
  },
  {
   "cell_type": "markdown",
   "metadata": {},
   "source": [
    "# 2. ADHO Works"
   ]
  },
  {
   "cell_type": "code",
   "execution_count": 9,
   "metadata": {},
   "outputs": [],
   "source": [
    "# import original datasets\n",
    "works = pd.read_csv(\"data/works.csv\")\n",
    "authorships = pd.read_csv(\"data/authorships.csv\")\n",
    "appellations = pd.read_csv(\"data/appellations.csv\")\n",
    "affiliations = pd.read_csv(\"data/affiliations.csv\")\n",
    "\n",
    "keyword_list = pd.read_csv(\"data/keywords.csv\")\n",
    "topic_list = pd.read_csv(\"data/topics.csv\")\n",
    "languages_list = pd.read_csv(\"data/languages.csv\")\n",
    "\n",
    "works_keywords = pd.read_csv(\"data/works_keywords.csv\")\n",
    "works_topics = pd.read_csv(\"data/works_topics.csv\")\n",
    "works_languages = pd.read_csv(\"data/works_languages.csv\")"
   ]
  },
  {
   "cell_type": "code",
   "execution_count": 10,
   "metadata": {},
   "outputs": [],
   "source": [
    "# filter data for ADHO conferences\n",
    "adho_conferences = membership.loc[(\n",
    "    membership['series'] == 1)]['conference'].tolist()\n",
    "adho_works = works.loc[(works['conference'].isin(adho_conferences))]\n",
    "adho_works_id = adho_works['id'].tolist()\n",
    "adho_works = adho_works.merge(conferences,\n",
    "                              left_on='conference',\n",
    "                              right_on='id',\n",
    "                              how='left')\n",
    "adho_works = adho_works[[\n",
    "    'id_x', 'title', 'work_type', 'conference', 'label', 'year', 'city',\n",
    "    'country', 'series_abbreviation', 'series_title'\n",
    "]]\n",
    "adho_works = adho_works.rename(\n",
    "    {\n",
    "        'id_x': 'work_id',\n",
    "        'conference': 'conference_id'\n",
    "    }, axis=1)"
   ]
  },
  {
   "cell_type": "code",
   "execution_count": 11,
   "metadata": {},
   "outputs": [],
   "source": [
    "# make some summaries and aggregations: keywords\n",
    "adho_keywords = works_keywords.loc[(\n",
    "    works_keywords['work'].isin(adho_works_id))]\n",
    "adho_keywords = adho_keywords.merge(keyword_list,\n",
    "                                    left_on='keyword',\n",
    "                                    right_on='id').drop(columns='id_y')\n",
    "adho_keywords = adho_keywords.merge(adho_works,\n",
    "                                    left_on='work',\n",
    "                                    right_on='work_id',\n",
    "                                    how='left')\n",
    "adho_keywords = adho_keywords.rename(\n",
    "    {\n",
    "        'keyword': 'keyword_id',\n",
    "        'title_x': 'keyword',\n",
    "        'title_y': 'work_title',\n",
    "    },\n",
    "    axis=1)\n",
    "adho_keywords = adho_keywords.drop(['id_x', 'work'], axis=1)\n",
    "\n",
    "# a. keywords rankings\n",
    "adho_keywords_counts = adho_keywords.groupby(['keyword']).size().reset_index()\n",
    "adho_keywords_counts.columns = ['keyword', 'value']\n",
    "adho_keywords_counts['percentage'] = round(\n",
    "    ((adho_keywords_counts['value'] /\n",
    "      (adho_keywords_counts['value'].sum())) * 100), 2)\n",
    "adho_keywords_counts = adho_keywords_counts.sort_values('value',\n",
    "                                                        ascending=False)\n",
    "\n",
    "# b. keywords through time\n",
    "adho_keywords_time = adho_keywords[[\n",
    "    'keyword_id', 'keyword', 'work_id', 'year'\n",
    "]]\n",
    "adho_keywords_time_matrix = adho_keywords_time.pivot_table(\n",
    "    index='keyword', columns='year', aggfunc={\n",
    "        'year': 'count'\n",
    "    }).reset_index().fillna(0)\n",
    "adho_keywords_time_matrix['total'] = adho_keywords_time_matrix.sum(axis=1)\n",
    "adho_keywords_time_matrix = adho_keywords_time_matrix.sort_values(\n",
    "    'total', ascending=False)\n",
    "adho_keywords_time_matrix.columns = [\n",
    "    'keyword', '2013', '2014', '2015', '2016', '2017', '2018', '2019', '2020',\n",
    "    'total'\n",
    "]"
   ]
  },
  {
   "cell_type": "code",
   "execution_count": 12,
   "metadata": {},
   "outputs": [],
   "source": [
    "# make some summaries and aggregations: topics\n",
    "adho_topics = works_topics.loc[(works_topics['work'].isin(adho_works_id))]\n",
    "adho_topics = adho_topics.merge(topic_list, left_on='topic',\n",
    "                                right_on='id').drop(columns='id_y')\n",
    "adho_topics = adho_topics.merge(adho_works,\n",
    "                                left_on='work',\n",
    "                                right_on='work_id',\n",
    "                                how='left')\n",
    "adho_topics = adho_topics.rename(\n",
    "    {\n",
    "        'topic': 'topic_id',\n",
    "        'title_x': 'topic',\n",
    "        'title_y': 'work_title',\n",
    "    },\n",
    "    axis=1)\n",
    "adho_topics = adho_topics.drop(['id_x', 'work'], axis=1)\n",
    "\n",
    "# a. keywords rankings\n",
    "adho_topics_counts = adho_topics.groupby(['topic']).size().reset_index()\n",
    "adho_topics_counts.columns = ['topic', 'value']\n",
    "adho_topics_counts['percentage'] = round(\n",
    "    ((adho_topics_counts['value'] /\n",
    "      (adho_topics_counts['value'].sum())) * 100), 2)\n",
    "adho_topics_counts = adho_topics_counts.sort_values('value', ascending=False)\n",
    "\n",
    "# b. keywords through time\n",
    "adho_topics_time = adho_topics[['topic_id', 'topic', 'work_id', 'year']]\n",
    "adho_topics_time_matrix = adho_topics_time.pivot_table(\n",
    "    index='topic', columns='year', aggfunc={\n",
    "        'year': 'count'\n",
    "    }).reset_index().fillna(0)\n",
    "adho_topics_time_matrix['total'] = adho_topics_time_matrix.sum(axis=1)\n",
    "adho_topics_time_matrix = adho_topics_time_matrix.sort_values('total',\n",
    "                                                              ascending=False)\n",
    "adho_topics_time_matrix.columns = [\n",
    "    'keyword', '2013', '2014', '2015', '2016', '2017', '2018', '2019', '2020',\n",
    "    'total'\n",
    "]"
   ]
  },
  {
   "cell_type": "markdown",
   "metadata": {},
   "source": [
    "## 2a. Overall stats"
   ]
  },
  {
   "cell_type": "code",
   "execution_count": 13,
   "metadata": {},
   "outputs": [],
   "source": [
    "adho_n_titles = adho_works['work_id'].nunique()\n",
    "adho_n_topics = len(adho_topics_counts)\n",
    "adho_n_keywords = len(adho_keywords_counts)"
   ]
  },
  {
   "cell_type": "markdown",
   "metadata": {
    "variables": {
     "adho_n_keywords": "6185",
     "adho_n_titles": "4100",
     "adho_n_topics": "283"
    }
   },
   "source": [
    "The ADHO filtered dataset contains in total:\n",
    "\n",
    "- **{{adho_n_titles}}** works, tagged with \n",
    "- **{{adho_n_keywords}}** different keywords, across\n",
    "- **{{adho_n_topics}}** different topics"
   ]
  },
  {
   "cell_type": "markdown",
   "metadata": {
    "variables": {
     "adho_keywords_counts.head(10)": "<div>\n<style scoped>\n    .dataframe tbody tr th:only-of-type {\n        vertical-align: middle;\n    }\n\n    .dataframe tbody tr th {\n        vertical-align: top;\n    }\n\n    .dataframe thead th {\n        text-align: right;\n    }\n</style>\n<table border=\"1\" class=\"dataframe\">\n  <thead>\n    <tr style=\"text-align: right;\">\n      <th></th>\n      <th>keyword</th>\n      <th>value</th>\n      <th>percentage</th>\n    </tr>\n  </thead>\n  <tbody>\n    <tr>\n      <th>5969</th>\n      <td>visualization</td>\n      <td>119</td>\n      <td>0.95</td>\n    </tr>\n    <tr>\n      <th>1315</th>\n      <td>collaboration</td>\n      <td>103</td>\n      <td>0.82</td>\n    </tr>\n    <tr>\n      <th>4408</th>\n      <td>pedagogy</td>\n      <td>90</td>\n      <td>0.72</td>\n    </tr>\n    <tr>\n      <th>5488</th>\n      <td>tei</td>\n      <td>78</td>\n      <td>0.62</td>\n    </tr>\n    <tr>\n      <th>5530</th>\n      <td>text analysis</td>\n      <td>75</td>\n      <td>0.60</td>\n    </tr>\n    <tr>\n      <th>3713</th>\n      <td>machine learning</td>\n      <td>65</td>\n      <td>0.52</td>\n    </tr>\n    <tr>\n      <th>741</th>\n      <td>annotation</td>\n      <td>65</td>\n      <td>0.52</td>\n    </tr>\n    <tr>\n      <th>5557</th>\n      <td>text mining</td>\n      <td>64</td>\n      <td>0.51</td>\n    </tr>\n    <tr>\n      <th>2966</th>\n      <td>history</td>\n      <td>64</td>\n      <td>0.51</td>\n    </tr>\n    <tr>\n      <th>1995</th>\n      <td>digital humanities</td>\n      <td>61</td>\n      <td>0.49</td>\n    </tr>\n  </tbody>\n</table>\n</div>"
    }
   },
   "source": [
    "### I. Top 10 keyword\n",
    "{{adho_keywords_counts.head(10)}}"
   ]
  },
  {
   "cell_type": "markdown",
   "metadata": {
    "variables": {
     "adho_topics_counts.head(10)": "<div>\n<style scoped>\n    .dataframe tbody tr th:only-of-type {\n        vertical-align: middle;\n    }\n\n    .dataframe tbody tr th {\n        vertical-align: top;\n    }\n\n    .dataframe thead th {\n        text-align: right;\n    }\n</style>\n<table border=\"1\" class=\"dataframe\">\n  <thead>\n    <tr style=\"text-align: right;\">\n      <th></th>\n      <th>topic</th>\n      <th>value</th>\n      <th>percentage</th>\n    </tr>\n  </thead>\n  <tbody>\n    <tr>\n      <th>107</th>\n      <td>english</td>\n      <td>1435</td>\n      <td>6.99</td>\n    </tr>\n    <tr>\n      <th>179</th>\n      <td>literary studies</td>\n      <td>629</td>\n      <td>3.07</td>\n    </tr>\n    <tr>\n      <th>16</th>\n      <td>archives, repositories, sustainability and preservation</td>\n      <td>477</td>\n      <td>2.32</td>\n    </tr>\n    <tr>\n      <th>57</th>\n      <td>data mining / text mining</td>\n      <td>458</td>\n      <td>2.23</td>\n    </tr>\n    <tr>\n      <th>264</th>\n      <td>text analysis</td>\n      <td>457</td>\n      <td>2.23</td>\n    </tr>\n    <tr>\n      <th>141</th>\n      <td>historical studies</td>\n      <td>417</td>\n      <td>2.03</td>\n    </tr>\n    <tr>\n      <th>55</th>\n      <td>cultural studies</td>\n      <td>388</td>\n      <td>1.89</td>\n    </tr>\n    <tr>\n      <th>280</th>\n      <td>visualization</td>\n      <td>363</td>\n      <td>1.77</td>\n    </tr>\n    <tr>\n      <th>173</th>\n      <td>library &amp; information science</td>\n      <td>350</td>\n      <td>1.71</td>\n    </tr>\n    <tr>\n      <th>41</th>\n      <td>contemporary</td>\n      <td>307</td>\n      <td>1.50</td>\n    </tr>\n  </tbody>\n</table>\n</div>"
    }
   },
   "source": [
    "### II. Top 10 topics\n",
    "{{adho_topics_counts.head(10)}}"
   ]
  },
  {
   "cell_type": "markdown",
   "metadata": {},
   "source": [
    "## 2b. Time stats"
   ]
  },
  {
   "cell_type": "markdown",
   "metadata": {
    "variables": {
     "adho_topics_time_matrix.head(10)": "<div>\n<style scoped>\n    .dataframe tbody tr th:only-of-type {\n        vertical-align: middle;\n    }\n\n    .dataframe tbody tr th {\n        vertical-align: top;\n    }\n\n    .dataframe thead th {\n        text-align: right;\n    }\n</style>\n<table border=\"1\" class=\"dataframe\">\n  <thead>\n    <tr style=\"text-align: right;\">\n      <th></th>\n      <th>keyword</th>\n      <th>2013</th>\n      <th>2014</th>\n      <th>2015</th>\n      <th>2016</th>\n      <th>2017</th>\n      <th>2018</th>\n      <th>2019</th>\n      <th>2020</th>\n      <th>total</th>\n    </tr>\n  </thead>\n  <tbody>\n    <tr>\n      <th>107</th>\n      <td>english</td>\n      <td>0.0</td>\n      <td>0.0</td>\n      <td>273.0</td>\n      <td>0.0</td>\n      <td>0.0</td>\n      <td>273.0</td>\n      <td>426.0</td>\n      <td>463.0</td>\n      <td>1435.0</td>\n    </tr>\n    <tr>\n      <th>179</th>\n      <td>literary studies</td>\n      <td>46.0</td>\n      <td>73.0</td>\n      <td>53.0</td>\n      <td>87.0</td>\n      <td>125.0</td>\n      <td>81.0</td>\n      <td>61.0</td>\n      <td>103.0</td>\n      <td>629.0</td>\n    </tr>\n    <tr>\n      <th>16</th>\n      <td>archives, repositories, sustainability and preservation</td>\n      <td>34.0</td>\n      <td>68.0</td>\n      <td>50.0</td>\n      <td>96.0</td>\n      <td>93.0</td>\n      <td>79.0</td>\n      <td>57.0</td>\n      <td>0.0</td>\n      <td>477.0</td>\n    </tr>\n    <tr>\n      <th>57</th>\n      <td>data mining / text mining</td>\n      <td>43.0</td>\n      <td>64.0</td>\n      <td>54.0</td>\n      <td>95.0</td>\n      <td>95.0</td>\n      <td>37.0</td>\n      <td>70.0</td>\n      <td>0.0</td>\n      <td>458.0</td>\n    </tr>\n    <tr>\n      <th>264</th>\n      <td>text analysis</td>\n      <td>35.0</td>\n      <td>79.0</td>\n      <td>67.0</td>\n      <td>114.0</td>\n      <td>106.0</td>\n      <td>56.0</td>\n      <td>0.0</td>\n      <td>0.0</td>\n      <td>457.0</td>\n    </tr>\n    <tr>\n      <th>141</th>\n      <td>historical studies</td>\n      <td>25.0</td>\n      <td>55.0</td>\n      <td>36.0</td>\n      <td>103.0</td>\n      <td>105.0</td>\n      <td>93.0</td>\n      <td>0.0</td>\n      <td>0.0</td>\n      <td>417.0</td>\n    </tr>\n    <tr>\n      <th>55</th>\n      <td>cultural studies</td>\n      <td>20.0</td>\n      <td>42.0</td>\n      <td>26.0</td>\n      <td>52.0</td>\n      <td>92.0</td>\n      <td>86.0</td>\n      <td>33.0</td>\n      <td>37.0</td>\n      <td>388.0</td>\n    </tr>\n    <tr>\n      <th>280</th>\n      <td>visualization</td>\n      <td>30.0</td>\n      <td>56.0</td>\n      <td>57.0</td>\n      <td>80.0</td>\n      <td>74.0</td>\n      <td>66.0</td>\n      <td>0.0</td>\n      <td>0.0</td>\n      <td>363.0</td>\n    </tr>\n    <tr>\n      <th>173</th>\n      <td>library &amp; information science</td>\n      <td>0.0</td>\n      <td>0.0</td>\n      <td>0.0</td>\n      <td>0.0</td>\n      <td>142.0</td>\n      <td>84.0</td>\n      <td>51.0</td>\n      <td>73.0</td>\n      <td>350.0</td>\n    </tr>\n    <tr>\n      <th>41</th>\n      <td>contemporary</td>\n      <td>0.0</td>\n      <td>0.0</td>\n      <td>0.0</td>\n      <td>0.0</td>\n      <td>0.0</td>\n      <td>0.0</td>\n      <td>0.0</td>\n      <td>307.0</td>\n      <td>307.0</td>\n    </tr>\n  </tbody>\n</table>\n</div>"
    }
   },
   "source": [
    "### I. Top 10 topics through time\n",
    "{{adho_topics_time_matrix.head(10)}}"
   ]
  },
  {
   "cell_type": "markdown",
   "metadata": {
    "variables": {
     "adho_keywords_time_matrix.head(10)": "<div>\n<style scoped>\n    .dataframe tbody tr th:only-of-type {\n        vertical-align: middle;\n    }\n\n    .dataframe tbody tr th {\n        vertical-align: top;\n    }\n\n    .dataframe thead th {\n        text-align: right;\n    }\n</style>\n<table border=\"1\" class=\"dataframe\">\n  <thead>\n    <tr style=\"text-align: right;\">\n      <th></th>\n      <th>keyword</th>\n      <th>2013</th>\n      <th>2014</th>\n      <th>2015</th>\n      <th>2016</th>\n      <th>2017</th>\n      <th>2018</th>\n      <th>2019</th>\n      <th>2020</th>\n      <th>total</th>\n    </tr>\n  </thead>\n  <tbody>\n    <tr>\n      <th>5969</th>\n      <td>visualization</td>\n      <td>20.0</td>\n      <td>15.0</td>\n      <td>15.0</td>\n      <td>10.0</td>\n      <td>22.0</td>\n      <td>13.0</td>\n      <td>15.0</td>\n      <td>9.0</td>\n      <td>119.0</td>\n    </tr>\n    <tr>\n      <th>1315</th>\n      <td>collaboration</td>\n      <td>4.0</td>\n      <td>19.0</td>\n      <td>13.0</td>\n      <td>13.0</td>\n      <td>19.0</td>\n      <td>11.0</td>\n      <td>14.0</td>\n      <td>10.0</td>\n      <td>103.0</td>\n    </tr>\n    <tr>\n      <th>4408</th>\n      <td>pedagogy</td>\n      <td>6.0</td>\n      <td>8.0</td>\n      <td>8.0</td>\n      <td>12.0</td>\n      <td>24.0</td>\n      <td>9.0</td>\n      <td>9.0</td>\n      <td>14.0</td>\n      <td>90.0</td>\n    </tr>\n    <tr>\n      <th>5488</th>\n      <td>tei</td>\n      <td>11.0</td>\n      <td>14.0</td>\n      <td>13.0</td>\n      <td>11.0</td>\n      <td>6.0</td>\n      <td>6.0</td>\n      <td>16.0</td>\n      <td>1.0</td>\n      <td>78.0</td>\n    </tr>\n    <tr>\n      <th>5530</th>\n      <td>text analysis</td>\n      <td>7.0</td>\n      <td>12.0</td>\n      <td>10.0</td>\n      <td>11.0</td>\n      <td>14.0</td>\n      <td>6.0</td>\n      <td>7.0</td>\n      <td>8.0</td>\n      <td>75.0</td>\n    </tr>\n    <tr>\n      <th>3713</th>\n      <td>machine learning</td>\n      <td>2.0</td>\n      <td>4.0</td>\n      <td>4.0</td>\n      <td>9.0</td>\n      <td>5.0</td>\n      <td>9.0</td>\n      <td>13.0</td>\n      <td>19.0</td>\n      <td>65.0</td>\n    </tr>\n    <tr>\n      <th>741</th>\n      <td>annotation</td>\n      <td>7.0</td>\n      <td>9.0</td>\n      <td>4.0</td>\n      <td>9.0</td>\n      <td>11.0</td>\n      <td>6.0</td>\n      <td>12.0</td>\n      <td>7.0</td>\n      <td>65.0</td>\n    </tr>\n    <tr>\n      <th>5557</th>\n      <td>text mining</td>\n      <td>6.0</td>\n      <td>9.0</td>\n      <td>6.0</td>\n      <td>9.0</td>\n      <td>11.0</td>\n      <td>4.0</td>\n      <td>7.0</td>\n      <td>12.0</td>\n      <td>64.0</td>\n    </tr>\n    <tr>\n      <th>2966</th>\n      <td>history</td>\n      <td>5.0</td>\n      <td>8.0</td>\n      <td>3.0</td>\n      <td>7.0</td>\n      <td>10.0</td>\n      <td>14.0</td>\n      <td>8.0</td>\n      <td>9.0</td>\n      <td>64.0</td>\n    </tr>\n    <tr>\n      <th>1995</th>\n      <td>digital humanities</td>\n      <td>5.0</td>\n      <td>5.0</td>\n      <td>8.0</td>\n      <td>13.0</td>\n      <td>7.0</td>\n      <td>5.0</td>\n      <td>13.0</td>\n      <td>5.0</td>\n      <td>61.0</td>\n    </tr>\n  </tbody>\n</table>\n</div>"
    }
   },
   "source": [
    "### II. Top 10 keywords through time\n",
    "{{adho_keywords_time_matrix.head(10)}}"
   ]
  },
  {
   "cell_type": "markdown",
   "metadata": {},
   "source": [
    "# 3. ADHO authors and affiliations"
   ]
  },
  {
   "cell_type": "code",
   "execution_count": 14,
   "metadata": {},
   "outputs": [],
   "source": [
    "# import original datasets\n",
    "authorship_affiliations = pd.read_csv(\"data/authorship_affiliation.csv\")"
   ]
  },
  {
   "cell_type": "code",
   "execution_count": 15,
   "metadata": {},
   "outputs": [],
   "source": [
    "# make some summaries and aggregations: authors and institutions\n",
    "works_authors_institutions = authorships.merge(\n",
    "    appellations, left_on='appellation', right_on='id',\n",
    "    how='left').drop(columns=['authorship_order']).drop(columns=['id_y'])\n",
    "works_authors_institutions['full_name'] = works_authors_institutions['first_name'] + \\\n",
    "    ' ' + works_authors_institutions['last_name'].drop(columns=['id_y'])\n",
    "works_authors_institutions = works_authors_institutions.merge(\n",
    "    authorship_affiliations, left_on='id_x', right_on='authorship',\n",
    "    how='left').drop(columns=['id', 'authorship'])\n",
    "works_authors_institutions = works_authors_institutions.merge(\n",
    "    affiliations, left_on='affiliation', right_on='id',\n",
    "    how='left').drop(columns=['id', 'department'])\n",
    "works_authors_institutions = works_authors_institutions.merge(\n",
    "    institutions, left_on='institution', right_on='id',\n",
    "    how='left').drop(columns=['id', 'city', 'state_province_region'])\n",
    "works_authors_institutions = works_authors_institutions.merge(\n",
    "    countries, left_on='country', right_on='id',\n",
    "    how='left').drop(columns=['id', 'country', 'id', 'tgn_id'])\n",
    "works_authors_institutions = works_authors_institutions.rename(\n",
    "    columns={\n",
    "        \"name\": \"institution_name\",\n",
    "        \"pref_name\": \"institution_country\",\n",
    "        'id_x': 'id',\n",
    "        'author': 'author_id',\n",
    "        'work': 'work_id',\n",
    "        'appellation': 'appellation_id',\n",
    "        'affiliation': 'affiliation_id',\n",
    "        'institution': 'institution_id'\n",
    "    })\n",
    "works_authors_institutions = works_authors_institutions.fillna('')"
   ]
  },
  {
   "cell_type": "code",
   "execution_count": 16,
   "metadata": {},
   "outputs": [],
   "source": [
    "# filter data for ADHO conferences\n",
    "adho_authorship = authorships.loc[(authorships['work'].isin(adho_works_id))]\n",
    "adho_authors_id = adho_authorship['author'].unique()\n",
    "adho_works_authors_institutions = works_authors_institutions.loc[(\n",
    "    works_authors_institutions['work_id'].isin(adho_works_id))]"
   ]
  },
  {
   "cell_type": "code",
   "execution_count": 17,
   "metadata": {},
   "outputs": [],
   "source": [
    "# make some summaries and aggregations: authors\n",
    "\n",
    "# ranking\n",
    "adho_author_counts = adho_works_authors_institutions.pivot_table(\n",
    "    index='author_id', aggfunc={\n",
    "        'work_id': 'count'\n",
    "    }, fill_value=0).reset_index()\n",
    "adho_author_counts.columns = ['author_id', 'n_works']\n",
    "\n",
    "adho_unique_authors_names = adho_works_authors_institutions[[\n",
    "    'author_id', 'full_name'\n",
    "]].drop_duplicates()\n",
    "adho_authors_names = adho_unique_authors_names.groupby(\n",
    "    ['author_id'])['full_name'].apply(' | '.join).reset_index()\n",
    "adho_author_counts = adho_author_counts.merge(adho_authors_names,\n",
    "                                              on='author_id',\n",
    "                                              how='left')\n",
    "\n",
    "adho_unique_authors_institutions = adho_works_authors_institutions[[\n",
    "    'author_id', 'institution_name'\n",
    "]].drop_duplicates()\n",
    "adho_authors_institutions = adho_unique_authors_institutions.groupby(\n",
    "    ['author_id'])['institution_name'].apply(' | '.join).reset_index()\n",
    "adho_author_counts = adho_author_counts.merge(adho_authors_institutions,\n",
    "                                              on='author_id',\n",
    "                                              how='left')\n",
    "\n",
    "adho_unique_authors_countries = adho_works_authors_institutions[[\n",
    "    'author_id', 'institution_country'\n",
    "]].drop_duplicates()\n",
    "adho_authors_countries = adho_unique_authors_countries.groupby(\n",
    "    ['author_id'])['institution_country'].apply(' | '.join).reset_index()\n",
    "adho_author_counts = adho_author_counts.merge(adho_authors_countries,\n",
    "                                              on='author_id',\n",
    "                                              how='left')\n",
    "\n",
    "adho_author_counts = adho_author_counts.sort_values('n_works', ascending=False)\n",
    "adho_author_counts['n_work_percentage'] = round(\n",
    "    ((adho_author_counts['n_works'] /\n",
    "      (adho_author_counts['n_works'].sum())) * 100), 2)\n",
    "\n",
    "# collaboration\n",
    "adho_works_author_counts = adho_authorship.groupby(\n",
    "    'work')['author'].nunique().reset_index()\n",
    "adho_works_author_counts.columns = ['work_id', 'n_authors']\n",
    "adho_works_author_counts = adho_works_author_counts.merge(adho_works,\n",
    "                                                          on='work_id',\n",
    "                                                          how='left')"
   ]
  },
  {
   "cell_type": "code",
   "execution_count": 18,
   "metadata": {},
   "outputs": [],
   "source": [
    "# make some summaries and aggregations: institutions\n",
    "adho_institutions_counts = adho_works_authors_institutions.groupby(\n",
    "    'institution_id')['work_id'].size().reset_index().sort_values(\n",
    "        'work_id', ascending=False)\n",
    "adho_institutions_counts.columns = ['institution_id', 'n_works']\n",
    "\n",
    "adho_unique_institutions = adho_works_authors_institutions[[\n",
    "    'institution_id', 'institution_name', 'institution_country'\n",
    "]].drop_duplicates()\n",
    "adho_institutions_counts = adho_institutions_counts.merge(\n",
    "    adho_unique_institutions, on='institution_id', how='left')\n",
    "adho_institutions_counts = adho_institutions_counts.sort_values(\n",
    "    'n_works', ascending=False)\n",
    "adho_institutions_counts['n_work_percentage'] = round(\n",
    "    ((adho_institutions_counts['n_works'] /\n",
    "      (adho_institutions_counts['n_works'].sum())) * 100), 2)"
   ]
  },
  {
   "cell_type": "code",
   "execution_count": 19,
   "metadata": {},
   "outputs": [],
   "source": [
    "# make some summaries and aggregations: countries\n",
    "\n",
    "# ranking\n",
    "adho_country_counts = adho_works_authors_institutions.pivot_table(\n",
    "    index='institution_country', aggfunc={\n",
    "        'work_id': 'count'\n",
    "    }, fill_value=0).reset_index().sort_values('work_id', ascending=False)\n",
    "adho_country_counts.columns = ['institution_country', 'n_works']\n",
    "adho_country_counts['n_work_percentage'] = round(\n",
    "    ((adho_country_counts['n_works'] /\n",
    "      (adho_country_counts['n_works'].sum())) * 100), 2)\n",
    "\n",
    "# through time\n",
    "adho_works_authors_institutions = adho_works_authors_institutions.merge(\n",
    "    adho_works, on='work_id', how='left')\n",
    "adho_countries_year = adho_works_authors_institutions.pivot_table(\n",
    "    index='institution_country', columns='year', aggfunc={\n",
    "        'work_id': 'count'\n",
    "    }).reset_index().fillna(0)\n",
    "adho_countries_year['total'] = adho_countries_year.sum(axis=1)\n",
    "adho_countries_year = adho_countries_year.sort_values('total', ascending=False)"
   ]
  },
  {
   "cell_type": "markdown",
   "metadata": {},
   "source": [
    "## 3a. Overall stats"
   ]
  },
  {
   "cell_type": "code",
   "execution_count": 20,
   "metadata": {},
   "outputs": [],
   "source": [
    "adho_n_authors = len(adho_authors_id)\n",
    "adho_n_institutions = adho_works_authors_institutions[\n",
    "    'institution_id'].nunique()\n",
    "adho_n_countries = adho_works_authors_institutions[\n",
    "    'institution_country'].nunique()"
   ]
  },
  {
   "cell_type": "markdown",
   "metadata": {
    "variables": {
     "adho_n_authors": "5856",
     "adho_n_countries": "80",
     "adho_n_institutions": "1351"
    }
   },
   "source": [
    "The ADHO filtered dataset contains in total:\n",
    "\n",
    "- **{{adho_n_authors}}** different authors, affiliated to\n",
    "- **{{adho_n_institutions}}** different institutions in\n",
    "- **{{adho_n_countries}}** different countries"
   ]
  },
  {
   "cell_type": "markdown",
   "metadata": {
    "variables": {
     "adho_author_counts.head(10)": "<div>\n<style scoped>\n    .dataframe tbody tr th:only-of-type {\n        vertical-align: middle;\n    }\n\n    .dataframe tbody tr th {\n        vertical-align: top;\n    }\n\n    .dataframe thead th {\n        text-align: right;\n    }\n</style>\n<table border=\"1\" class=\"dataframe\">\n  <thead>\n    <tr style=\"text-align: right;\">\n      <th></th>\n      <th>author_id</th>\n      <th>n_works</th>\n      <th>full_name</th>\n      <th>institution_name</th>\n      <th>institution_country</th>\n      <th>n_work_percentage</th>\n    </tr>\n  </thead>\n  <tbody>\n    <tr>\n      <th>3</th>\n      <td>3</td>\n      <td>58</td>\n      <td>Geoffrey Rockwell | G. Rockwell</td>\n      <td>University of Alberta | McMaster University</td>\n      <td>Canada</td>\n      <td>0.49</td>\n    </tr>\n    <tr>\n      <th>165</th>\n      <td>184</td>\n      <td>51</td>\n      <td>Susan Brown | Susan Irene Brown</td>\n      <td>University of Guelph | University of Alberta</td>\n      <td>Canada</td>\n      <td>0.43</td>\n    </tr>\n    <tr>\n      <th>4</th>\n      <td>4</td>\n      <td>47</td>\n      <td>Stéfan Sinclair</td>\n      <td>McMaster University | McGill University | University of Alberta</td>\n      <td>Canada</td>\n      <td>0.40</td>\n    </tr>\n    <tr>\n      <th>5</th>\n      <td>5</td>\n      <td>45</td>\n      <td>Melissa Terras</td>\n      <td>University College London | University of Edinburgh | Friedrich-Schiller-Universität Jena</td>\n      <td>United Kingdom | Germany</td>\n      <td>0.38</td>\n    </tr>\n    <tr>\n      <th>4448</th>\n      <td>7963</td>\n      <td>38</td>\n      <td>Maciej Eder | Eder Maciej</td>\n      <td>Polish Academy of Sciences | Pedagogical University of Krakow</td>\n      <td>Poland</td>\n      <td>0.32</td>\n    </tr>\n    <tr>\n      <th>14</th>\n      <td>14</td>\n      <td>35</td>\n      <td>Stan Ruecker</td>\n      <td>University of Alberta | Illinois Institute of Technology</td>\n      <td>Canada | United States</td>\n      <td>0.30</td>\n    </tr>\n    <tr>\n      <th>23</th>\n      <td>23</td>\n      <td>32</td>\n      <td>David L. Hoover | David Hoover | David Lowell Hoover</td>\n      <td>New York University</td>\n      <td>United States</td>\n      <td>0.27</td>\n    </tr>\n    <tr>\n      <th>64</th>\n      <td>66</td>\n      <td>26</td>\n      <td>Claire Warwick</td>\n      <td>University of Sheffield | University College London | King's College London | University of Durham</td>\n      <td>United Kingdom</td>\n      <td>0.22</td>\n    </tr>\n    <tr>\n      <th>51</th>\n      <td>53</td>\n      <td>26</td>\n      <td>Susan Schreibman</td>\n      <td>University of Maryland, College Park | Royal Irish Academy | Trinity College Dublin | Maynooth University (National University of Ireland, Maynooth) | Maastricht University</td>\n      <td>United States | Ireland | Netherlands</td>\n      <td>0.22</td>\n    </tr>\n    <tr>\n      <th>4370</th>\n      <td>6814</td>\n      <td>25</td>\n      <td>Ray Siemens | Raymond George Siemens | Raymond Siemens</td>\n      <td>University of Victoria | Texas A&amp;M University</td>\n      <td>Canada | United States</td>\n      <td>0.21</td>\n    </tr>\n  </tbody>\n</table>\n</div>"
    }
   },
   "source": [
    "### I. Top 10 ADHO authors\n",
    "{{adho_author_counts.head(10)}}"
   ]
  },
  {
   "cell_type": "markdown",
   "metadata": {
    "variables": {
     "adho_institutions_counts.head(10)": "<div>\n<style scoped>\n    .dataframe tbody tr th:only-of-type {\n        vertical-align: middle;\n    }\n\n    .dataframe tbody tr th {\n        vertical-align: top;\n    }\n\n    .dataframe thead th {\n        text-align: right;\n    }\n</style>\n<table border=\"1\" class=\"dataframe\">\n  <thead>\n    <tr style=\"text-align: right;\">\n      <th></th>\n      <th>institution_id</th>\n      <th>n_works</th>\n      <th>institution_name</th>\n      <th>institution_country</th>\n      <th>n_work_percentage</th>\n    </tr>\n  </thead>\n  <tbody>\n    <tr>\n      <th>0</th>\n      <td>384</td>\n      <td>243</td>\n      <td>King's College London</td>\n      <td>United Kingdom</td>\n      <td>2.06</td>\n    </tr>\n    <tr>\n      <th>1</th>\n      <td>974</td>\n      <td>236</td>\n      <td>University of Illinois, Urbana-Champaign</td>\n      <td>United States</td>\n      <td>2.00</td>\n    </tr>\n    <tr>\n      <th>2</th>\n      <td>893</td>\n      <td>217</td>\n      <td>University of Alberta</td>\n      <td>Canada</td>\n      <td>1.84</td>\n    </tr>\n    <tr>\n      <th>3</th>\n      <td>694</td>\n      <td>188</td>\n      <td>Stanford University</td>\n      <td>United States</td>\n      <td>1.59</td>\n    </tr>\n    <tr>\n      <th>4</th>\n      <td>884</td>\n      <td>177</td>\n      <td>University College London</td>\n      <td>United Kingdom</td>\n      <td>1.50</td>\n    </tr>\n    <tr>\n      <th>5</th>\n      <td>1010</td>\n      <td>160</td>\n      <td>University of Maryland, College Park</td>\n      <td>United States</td>\n      <td>1.36</td>\n    </tr>\n    <tr>\n      <th>6</th>\n      <td>1204</td>\n      <td>159</td>\n      <td>Royal Netherlands Academy of Arts and Sciences (KNAW)</td>\n      <td>Netherlands</td>\n      <td>1.35</td>\n    </tr>\n    <tr>\n      <th>7</th>\n      <td>728</td>\n      <td>145</td>\n      <td>Texas A&amp;M University</td>\n      <td>United States</td>\n      <td>1.23</td>\n    </tr>\n    <tr>\n      <th>8</th>\n      <td>1122</td>\n      <td>142</td>\n      <td>University of Virginia</td>\n      <td>United States</td>\n      <td>1.20</td>\n    </tr>\n    <tr>\n      <th>9</th>\n      <td>1120</td>\n      <td>141</td>\n      <td>University of Victoria</td>\n      <td>Canada</td>\n      <td>1.19</td>\n    </tr>\n  </tbody>\n</table>\n</div>"
    }
   },
   "source": [
    "### II. Top 10 institutions of ADHO authors\n",
    "{{adho_institutions_counts.head(10)}}"
   ]
  },
  {
   "cell_type": "markdown",
   "metadata": {
    "variables": {
     "adho_country_counts.head(10)": "<div>\n<style scoped>\n    .dataframe tbody tr th:only-of-type {\n        vertical-align: middle;\n    }\n\n    .dataframe tbody tr th {\n        vertical-align: top;\n    }\n\n    .dataframe thead th {\n        text-align: right;\n    }\n</style>\n<table border=\"1\" class=\"dataframe\">\n  <thead>\n    <tr style=\"text-align: right;\">\n      <th></th>\n      <th>institution_country</th>\n      <th>n_works</th>\n      <th>n_work_percentage</th>\n    </tr>\n  </thead>\n  <tbody>\n    <tr>\n      <th>77</th>\n      <td>United States</td>\n      <td>3737</td>\n      <td>31.66</td>\n    </tr>\n    <tr>\n      <th>25</th>\n      <td>Germany</td>\n      <td>1294</td>\n      <td>10.96</td>\n    </tr>\n    <tr>\n      <th>76</th>\n      <td>United Kingdom</td>\n      <td>1133</td>\n      <td>9.60</td>\n    </tr>\n    <tr>\n      <th>10</th>\n      <td>Canada</td>\n      <td>1016</td>\n      <td>8.61</td>\n    </tr>\n    <tr>\n      <th>23</th>\n      <td>France</td>\n      <td>593</td>\n      <td>5.02</td>\n    </tr>\n    <tr>\n      <th>48</th>\n      <td>Netherlands</td>\n      <td>560</td>\n      <td>4.74</td>\n    </tr>\n    <tr>\n      <th>36</th>\n      <td>Japan</td>\n      <td>372</td>\n      <td>3.15</td>\n    </tr>\n    <tr>\n      <th>68</th>\n      <td>Switzerland</td>\n      <td>325</td>\n      <td>2.75</td>\n    </tr>\n    <tr>\n      <th>35</th>\n      <td>Italy</td>\n      <td>312</td>\n      <td>2.64</td>\n    </tr>\n    <tr>\n      <th>2</th>\n      <td>Australia</td>\n      <td>241</td>\n      <td>2.04</td>\n    </tr>\n  </tbody>\n</table>\n</div>"
    }
   },
   "source": [
    "### III. Top 10 countries of ADHO authors' institutions\n",
    "{{adho_country_counts.head(10)}}"
   ]
  },
  {
   "cell_type": "markdown",
   "metadata": {},
   "source": [
    "## 3b. Time stats"
   ]
  },
  {
   "cell_type": "markdown",
   "metadata": {
    "variables": {
     "adho_countries_year.head(10)": "<div>\n<style scoped>\n    .dataframe tbody tr th:only-of-type {\n        vertical-align: middle;\n    }\n\n    .dataframe tbody tr th {\n        vertical-align: top;\n    }\n\n    .dataframe thead tr th {\n        text-align: left;\n    }\n</style>\n<table border=\"1\" class=\"dataframe\">\n  <thead>\n    <tr>\n      <th></th>\n      <th>institution_country</th>\n      <th colspan=\"15\" halign=\"left\">work_id</th>\n      <th>total</th>\n    </tr>\n    <tr>\n      <th>year</th>\n      <th></th>\n      <th>2006</th>\n      <th>2007</th>\n      <th>2008</th>\n      <th>2009</th>\n      <th>2010</th>\n      <th>2011</th>\n      <th>2012</th>\n      <th>2013</th>\n      <th>2014</th>\n      <th>2015</th>\n      <th>2016</th>\n      <th>2017</th>\n      <th>2018</th>\n      <th>2019</th>\n      <th>2020</th>\n      <th></th>\n    </tr>\n  </thead>\n  <tbody>\n    <tr>\n      <th>77</th>\n      <td>United States</td>\n      <td>120.0</td>\n      <td>172.0</td>\n      <td>146.0</td>\n      <td>216.0</td>\n      <td>116.0</td>\n      <td>192.0</td>\n      <td>135.0</td>\n      <td>320.0</td>\n      <td>327.0</td>\n      <td>207.0</td>\n      <td>323.0</td>\n      <td>401.0</td>\n      <td>398.0</td>\n      <td>189.0</td>\n      <td>475.0</td>\n      <td>3737.0</td>\n    </tr>\n    <tr>\n      <th>25</th>\n      <td>Germany</td>\n      <td>13.0</td>\n      <td>11.0</td>\n      <td>22.0</td>\n      <td>5.0</td>\n      <td>34.0</td>\n      <td>18.0</td>\n      <td>109.0</td>\n      <td>45.0</td>\n      <td>159.0</td>\n      <td>65.0</td>\n      <td>192.0</td>\n      <td>154.0</td>\n      <td>86.0</td>\n      <td>224.0</td>\n      <td>157.0</td>\n      <td>1294.0</td>\n    </tr>\n    <tr>\n      <th>76</th>\n      <td>United Kingdom</td>\n      <td>38.0</td>\n      <td>22.0</td>\n      <td>40.0</td>\n      <td>37.0</td>\n      <td>49.0</td>\n      <td>73.0</td>\n      <td>71.0</td>\n      <td>76.0</td>\n      <td>133.0</td>\n      <td>86.0</td>\n      <td>119.0</td>\n      <td>86.0</td>\n      <td>51.0</td>\n      <td>149.0</td>\n      <td>103.0</td>\n      <td>1133.0</td>\n    </tr>\n    <tr>\n      <th>10</th>\n      <td>Canada</td>\n      <td>31.0</td>\n      <td>22.0</td>\n      <td>49.0</td>\n      <td>28.0</td>\n      <td>58.0</td>\n      <td>47.0</td>\n      <td>53.0</td>\n      <td>103.0</td>\n      <td>107.0</td>\n      <td>70.0</td>\n      <td>60.0</td>\n      <td>107.0</td>\n      <td>56.0</td>\n      <td>69.0</td>\n      <td>156.0</td>\n      <td>1016.0</td>\n    </tr>\n    <tr>\n      <th>23</th>\n      <td>France</td>\n      <td>27.0</td>\n      <td>5.0</td>\n      <td>0.0</td>\n      <td>4.0</td>\n      <td>9.0</td>\n      <td>6.0</td>\n      <td>19.0</td>\n      <td>10.0</td>\n      <td>36.0</td>\n      <td>24.0</td>\n      <td>111.0</td>\n      <td>47.0</td>\n      <td>47.0</td>\n      <td>172.0</td>\n      <td>76.0</td>\n      <td>593.0</td>\n    </tr>\n    <tr>\n      <th>48</th>\n      <td>Netherlands</td>\n      <td>8.0</td>\n      <td>5.0</td>\n      <td>13.0</td>\n      <td>4.0</td>\n      <td>15.0</td>\n      <td>13.0</td>\n      <td>33.0</td>\n      <td>23.0</td>\n      <td>40.0</td>\n      <td>35.0</td>\n      <td>81.0</td>\n      <td>36.0</td>\n      <td>48.0</td>\n      <td>167.0</td>\n      <td>39.0</td>\n      <td>560.0</td>\n    </tr>\n    <tr>\n      <th>36</th>\n      <td>Japan</td>\n      <td>2.0</td>\n      <td>4.0</td>\n      <td>6.0</td>\n      <td>29.0</td>\n      <td>36.0</td>\n      <td>24.0</td>\n      <td>20.0</td>\n      <td>18.0</td>\n      <td>35.0</td>\n      <td>36.0</td>\n      <td>35.0</td>\n      <td>31.0</td>\n      <td>21.0</td>\n      <td>28.0</td>\n      <td>47.0</td>\n      <td>372.0</td>\n    </tr>\n    <tr>\n      <th>68</th>\n      <td>Switzerland</td>\n      <td>2.0</td>\n      <td>0.0</td>\n      <td>0.0</td>\n      <td>0.0</td>\n      <td>0.0</td>\n      <td>0.0</td>\n      <td>6.0</td>\n      <td>10.0</td>\n      <td>50.0</td>\n      <td>32.0</td>\n      <td>70.0</td>\n      <td>50.0</td>\n      <td>29.0</td>\n      <td>44.0</td>\n      <td>32.0</td>\n      <td>325.0</td>\n    </tr>\n    <tr>\n      <th>35</th>\n      <td>Italy</td>\n      <td>8.0</td>\n      <td>3.0</td>\n      <td>18.0</td>\n      <td>8.0</td>\n      <td>4.0</td>\n      <td>3.0</td>\n      <td>14.0</td>\n      <td>17.0</td>\n      <td>36.0</td>\n      <td>10.0</td>\n      <td>80.0</td>\n      <td>8.0</td>\n      <td>20.0</td>\n      <td>78.0</td>\n      <td>5.0</td>\n      <td>312.0</td>\n    </tr>\n    <tr>\n      <th>2</th>\n      <td>Australia</td>\n      <td>10.0</td>\n      <td>3.0</td>\n      <td>4.0</td>\n      <td>3.0</td>\n      <td>10.0</td>\n      <td>3.0</td>\n      <td>3.0</td>\n      <td>17.0</td>\n      <td>21.0</td>\n      <td>101.0</td>\n      <td>14.0</td>\n      <td>7.0</td>\n      <td>16.0</td>\n      <td>16.0</td>\n      <td>13.0</td>\n      <td>241.0</td>\n    </tr>\n  </tbody>\n</table>\n</div>"
    }
   },
   "source": [
    "### I. Top 10 countries through time\n",
    "{{adho_countries_year.head(10)}}"
   ]
  },
  {
   "cell_type": "markdown",
   "metadata": {},
   "source": [
    "# 4. Tools mentioned in ADHO abstracts"
   ]
  },
  {
   "cell_type": "code",
   "execution_count": 21,
   "metadata": {},
   "outputs": [],
   "source": [
    "# import original datasets\n",
    "adho_tools = pd.read_csv(\"data/tools-dh-proceedings.csv\")\n",
    "adho_tools['total'] = adho_tools.sum(axis=1)\n",
    "adho_tools = adho_tools.sort_values('total', ascending=False)"
   ]
  },
  {
   "cell_type": "markdown",
   "metadata": {
    "variables": {
     "adho_tools.head(10)": "<div>\n<style scoped>\n    .dataframe tbody tr th:only-of-type {\n        vertical-align: middle;\n    }\n\n    .dataframe tbody tr th {\n        vertical-align: top;\n    }\n\n    .dataframe thead th {\n        text-align: right;\n    }\n</style>\n<table border=\"1\" class=\"dataframe\">\n  <thead>\n    <tr style=\"text-align: right;\">\n      <th></th>\n      <th>Tool</th>\n      <th>2015</th>\n      <th>2016</th>\n      <th>2017</th>\n      <th>2018</th>\n      <th>2019</th>\n      <th>total</th>\n    </tr>\n  </thead>\n  <tbody>\n    <tr>\n      <th>169</th>\n      <td>Python</td>\n      <td>9</td>\n      <td>22</td>\n      <td>27</td>\n      <td>32</td>\n      <td>35</td>\n      <td>125</td>\n    </tr>\n    <tr>\n      <th>213</th>\n      <td>Twitter</td>\n      <td>10</td>\n      <td>18</td>\n      <td>26</td>\n      <td>16</td>\n      <td>12</td>\n      <td>82</td>\n    </tr>\n    <tr>\n      <th>78</th>\n      <td>Gephi</td>\n      <td>11</td>\n      <td>16</td>\n      <td>14</td>\n      <td>10</td>\n      <td>9</td>\n      <td>60</td>\n    </tr>\n    <tr>\n      <th>101</th>\n      <td>JavaScript</td>\n      <td>8</td>\n      <td>18</td>\n      <td>12</td>\n      <td>6</td>\n      <td>15</td>\n      <td>59</td>\n    </tr>\n    <tr>\n      <th>141</th>\n      <td>Omeka</td>\n      <td>4</td>\n      <td>9</td>\n      <td>11</td>\n      <td>14</td>\n      <td>6</td>\n      <td>44</td>\n    </tr>\n    <tr>\n      <th>80</th>\n      <td>GitHub</td>\n      <td>2</td>\n      <td>6</td>\n      <td>17</td>\n      <td>5</td>\n      <td>10</td>\n      <td>40</td>\n    </tr>\n    <tr>\n      <th>89</th>\n      <td>HathiTrust</td>\n      <td>9</td>\n      <td>11</td>\n      <td>10</td>\n      <td>4</td>\n      <td>3</td>\n      <td>37</td>\n    </tr>\n    <tr>\n      <th>188</th>\n      <td>stylo</td>\n      <td>4</td>\n      <td>13</td>\n      <td>6</td>\n      <td>6</td>\n      <td>6</td>\n      <td>35</td>\n    </tr>\n    <tr>\n      <th>118</th>\n      <td>MALLET</td>\n      <td>7</td>\n      <td>8</td>\n      <td>7</td>\n      <td>8</td>\n      <td>3</td>\n      <td>33</td>\n    </tr>\n    <tr>\n      <th>81</th>\n      <td>Google Books</td>\n      <td>6</td>\n      <td>8</td>\n      <td>8</td>\n      <td>4</td>\n      <td>5</td>\n      <td>31</td>\n    </tr>\n  </tbody>\n</table>\n</div>"
    }
   },
   "source": [
    "### I. Top 10 tools 2015 - 2019\n",
    "{{adho_tools.head(10)}}"
   ]
  },
  {
   "cell_type": "markdown",
   "metadata": {},
   "source": [
    "# 5. Export the data tables"
   ]
  },
  {
   "cell_type": "code",
   "execution_count": 22,
   "metadata": {},
   "outputs": [],
   "source": [
    "# timeline of conferences colored by series\n",
    "conferences.to_csv('data/viz_timeline.csv', index=False)\n",
    "\n",
    "# timeline ADHO topics by year\n",
    "adho_topics_time_matrix.to_csv('data/viz_adho_topics.csv', index=False)\n",
    "\n",
    "# timeline ADHO tools\n",
    "adho_tools.to_csv('data/viz_adho_tools.csv', index=False)\n",
    "\n",
    "# timeline ADHO authors per work\n",
    "adho_works_author_counts.to_csv('data/viz_adho_n_authors.csv', index=False)\n",
    "\n",
    "# top countries affiliated\n",
    "adho_country_counts.to_csv('data/viz_adho_countries.csv', index=False)\n",
    "\n",
    "# countries affiliated through time\n",
    "adho_countries_year.to_csv('data/viz_adho_countries_years.csv', index=False)"
   ]
  }
 ],
 "metadata": {
  "hide_input": false,
  "kernelspec": {
   "display_name": "Python 3",
   "language": "python",
   "name": "python3"
  },
  "language_info": {
   "codemirror_mode": {
    "name": "ipython",
    "version": 3
   },
   "file_extension": ".py",
   "mimetype": "text/x-python",
   "name": "python",
   "nbconvert_exporter": "python",
   "pygments_lexer": "ipython3",
   "version": "3.7.7"
  },
  "toc": {
   "base_numbering": 1,
   "nav_menu": {},
   "number_sections": false,
   "sideBar": true,
   "skip_h1_title": false,
   "title_cell": "Table of Contents",
   "title_sidebar": "Contents",
   "toc_cell": true,
   "toc_position": {},
   "toc_section_display": true,
   "toc_window_display": true
  }
 },
 "nbformat": 4,
 "nbformat_minor": 4
}
